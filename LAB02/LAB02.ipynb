{
 "cells": [
  {
   "cell_type": "markdown",
   "metadata": {
    "id": "view-in-github"
   },
   "source": [
    "<a href=\"https://colab.research.google.com/github/MastafaF/Lab2_EPITA/blob/main/Lab2_EPITA.ipynb\" target=\"_parent\"><img src=\"https://colab.research.google.com/assets/colab-badge.svg\" alt=\"Open In Colab\"/></a>"
   ]
  },
  {
   "cell_type": "code",
   "execution_count": 90,
   "metadata": {
    "id": "444rw1H7Tc5X"
   },
   "outputs": [],
   "source": [
    "import os \n",
    "import pandas as pd \n",
    "\n",
    "from IPython.display import HTML"
   ]
  },
  {
   "cell_type": "code",
   "execution_count": 91,
   "metadata": {
    "id": "DZZ-lQ6ZCSkw"
   },
   "outputs": [],
   "source": [
    "%%capture\n",
    "! pip install fasttext"
   ]
  },
  {
   "cell_type": "markdown",
   "metadata": {
    "id": "OdJi0t01bK4w",
    "tags": []
   },
   "source": [
    "# I. Language detection (24 points)"
   ]
  },
  {
   "cell_type": "markdown",
   "metadata": {
    "id": "KLTloWrXUPjX"
   },
   "source": [
    "## Setup "
   ]
  },
  {
   "cell_type": "code",
   "execution_count": 92,
   "metadata": {
    "colab": {
     "base_uri": "https://localhost:8080/"
    },
    "id": "pvSPXjija_s3",
    "outputId": "90b06ea5-951d-469a-94c0-9a94ab69c09c"
   },
   "outputs": [
    {
     "name": "stdout",
     "output_type": "stream",
     "text": [
      "fatal : le chemin de destination 'LanguageDetection' existe déjà et n'est pas un répertoire vide.\n"
     ]
    }
   ],
   "source": [
    "! git clone https://github.com/MastafaF/LanguageDetection.git"
   ]
  },
  {
   "cell_type": "code",
   "execution_count": 93,
   "metadata": {
    "colab": {
     "base_uri": "https://localhost:8080/"
    },
    "id": "i1FzKr_KTn--",
    "outputId": "372713b6-a4f6-4953-f0a9-a0660a272ca3"
   },
   "outputs": [
    {
     "data": {
      "text/plain": [
       "['dataset.csv',\n",
       " '.git',\n",
       " 'dataset.csv.zip',\n",
       " 'README.md',\n",
       " '.gitignore',\n",
       " 'LICENSE']"
      ]
     },
     "execution_count": 93,
     "metadata": {},
     "output_type": "execute_result"
    }
   ],
   "source": [
    "os.listdir(\"./LanguageDetection\")"
   ]
  },
  {
   "cell_type": "code",
   "execution_count": 94,
   "metadata": {
    "id": "vUX_IVaqTrGY"
   },
   "outputs": [],
   "source": [
    "# CD the LanguageDetection folder - we are working in the below folder now\n",
    "os.chdir(\"./LanguageDetection\")"
   ]
  },
  {
   "cell_type": "code",
   "execution_count": 95,
   "metadata": {
    "colab": {
     "base_uri": "https://localhost:8080/"
    },
    "id": "kCV5bn74UAPv",
    "outputId": "b0561646-9ac3-4670-d1b2-a19bec73b4d9"
   },
   "outputs": [
    {
     "name": "stdout",
     "output_type": "stream",
     "text": [
      "Archive:  dataset.csv.zip\n",
      "replace dataset.csv? [y]es, [n]o, [A]ll, [N]one, [r]ename: ^C\n"
     ]
    }
   ],
   "source": [
    "! unzip dataset.csv.zip"
   ]
  },
  {
   "cell_type": "markdown",
   "metadata": {
    "id": "vIBh8insUSc-"
   },
   "source": [
    "## Data Exploration Analysis"
   ]
  },
  {
   "cell_type": "code",
   "execution_count": 96,
   "metadata": {
    "id": "xDfv7hhSUN6i"
   },
   "outputs": [],
   "source": [
    "data = pd.read_csv(\"./dataset.csv\")"
   ]
  },
  {
   "cell_type": "code",
   "execution_count": 97,
   "metadata": {
    "id": "l0UGOxuQkOei"
   },
   "outputs": [],
   "source": [
    "os.chdir(\"../\")"
   ]
  },
  {
   "cell_type": "code",
   "execution_count": 98,
   "metadata": {
    "colab": {
     "base_uri": "https://localhost:8080/",
     "height": 98
    },
    "id": "JAXFNxudyfTr",
    "outputId": "d6805c28-b2a9-4c31-83c4-2c393bd233f3"
   },
   "outputs": [
    {
     "data": {
      "text/html": [
       "<table border=\"1\" class=\"dataframe\">\n",
       "  <thead>\n",
       "    <tr style=\"text-align: right;\">\n",
       "      <th></th>\n",
       "      <th>Text</th>\n",
       "      <th>language</th>\n",
       "    </tr>\n",
       "  </thead>\n",
       "  <tbody>\n",
       "    <tr>\n",
       "      <th>2768</th>\n",
       "      <td>比什凯克流通吉尔吉斯斯坦的货币，索姆。索姆的币值有规律的浮动，但到年月为止，对美元的平均汇率为索姆兑美元。比什凯克的经济主要依靠农业，出产大量的水果、蔬菜和家畜，在偏远地区并行着实物交易的制度。比什凯克的大街通常布满了卖农产品的商人，整条街犹如一个大市场。在市中心的主要地段具有更加城市化的景观，如银行、商铺、市场和购物商场。最受欢迎的是当下流行的工匠制作的手工艺品；包括雕塑、雕刻品、油画以及以自然岩石为材料的雕塑。</td>\n",
       "      <td>Chinese</td>\n",
       "    </tr>\n",
       "  </tbody>\n",
       "</table>"
      ],
      "text/plain": [
       "<IPython.core.display.HTML object>"
      ]
     },
     "execution_count": 98,
     "metadata": {},
     "output_type": "execute_result"
    }
   ],
   "source": [
    "# Sample of the data\n",
    "HTML(data[data.language == \"Chinese\"].sample().to_html())"
   ]
  },
  {
   "cell_type": "markdown",
   "metadata": {
    "id": "FN0ADAdPVejT"
   },
   "source": [
    "### Question 1. Describe the distribution of languages and give at least two comments about the dataset. (1 point)"
   ]
  },
  {
   "cell_type": "code",
   "execution_count": 99,
   "metadata": {
    "colab": {
     "base_uri": "https://localhost:8080/",
     "height": 327
    },
    "id": "Fd1UdWiiVcoJ",
    "outputId": "039fe296-9191-49a6-bbe7-8dac6d6ccd05"
   },
   "outputs": [
    {
     "data": {
      "text/plain": [
       "<AxesSubplot: >"
      ]
     },
     "execution_count": 99,
     "metadata": {},
     "output_type": "execute_result"
    },
    {
     "data": {
      "image/png": "[encoded data removed]",
      "text/plain": [
       "<Figure size 640x480 with 1 Axes>"
      ]
     },
     "metadata": {},
     "output_type": "display_data"
    }
   ],
   "source": [
    "################################################\n",
    "# your implementation goes here\n",
    "\n",
    "data[\"language\"].value_counts().plot(kind='bar')\n",
    "\n",
    "##################################################"
   ]
  },
  {
   "cell_type": "markdown",
   "metadata": {
    "id": "E_9ElUf71XK_"
   },
   "source": [
    "The distribution is equal, there is the exact same number of sentences for all of the 22 languages in the dataset. We can see that this dataset does not have a lot of languages (only 22), but the languages are very varied with languages from all around the world, some being popular languages (english, chinese), and some being less popular (Urdu, Pushto)."
   ]
  },
  {
   "cell_type": "markdown",
   "metadata": {
    "id": "czrUUAqJyoyW"
   },
   "source": [
    "### Question 2-5. Explore the data with your own preprocessing and train your model"
   ]
  },
  {
   "cell_type": "code",
   "execution_count": 100,
   "metadata": {
    "colab": {
     "base_uri": "https://localhost:8080/"
    },
    "id": "nNoW0UnlW4Bk",
    "outputId": "e71491e9-06ab-4b3a-e34b-589960167fdd"
   },
   "outputs": [
    {
     "name": "stdout",
     "output_type": "stream",
     "text": [
      "Train accuracy : 0.9694318181818182\n",
      "Test accuracy : 0.9665909090909091\n",
      "Test on a few sentences :\n",
      "Bonjour je suis une délicieuse chocolatine : French\n",
      "Hello i like to drink tea and invade foreign countries : English\n",
      "Hola me gusta los pollos hermanos : Spanish\n"
     ]
    }
   ],
   "source": [
    "import numpy as np\n",
    "from sklearn.model_selection import train_test_split\n",
    "\n",
    "X=data['Text']\n",
    "y=data['language']\n",
    "\n",
    "\n",
    "################################################\n",
    "# your implementation goes here\n",
    "from sklearn.preprocessing import LabelEncoder\n",
    "from sklearn.feature_extraction.text import CountVectorizer\n",
    "from sklearn.naive_bayes import MultinomialNB\n",
    "from sklearn.metrics import accuracy_score, confusion_matrix\n",
    "import string\n",
    "\n",
    "def preprocess(text, language) :\n",
    "\n",
    "  punctuation = string.punctuation\n",
    "  \n",
    "  # add asiatic punctuation\n",
    "  punctuation += \"，。！？【】（）％＃＠＆《》\"\n",
    "  text = text.lower()\n",
    "  text = text.translate(str.maketrans('', '', punctuation))\n",
    "\n",
    "  # add space between asiatic characters so that CountVectorizer tokenizer works\n",
    "  if language == \"Japanese\" or language == \"Chinese\" :\n",
    "    text = \" \".join(text)\n",
    "\n",
    "  return text\n",
    "\n",
    "for i in range(len(X)) :\n",
    "  X[i] = preprocess(X[i], y[i])\n",
    "\n",
    "# We modify the token pattern to include 1 character words and asiatic characters\n",
    "cv = CountVectorizer(max_features=15000, token_pattern=r'(?u)\\b[^ ]+\\b')\n",
    "X = cv.fit_transform(X).toarray()\n",
    "\n",
    "encoder = LabelEncoder()\n",
    "y = encoder.fit_transform(y)\n",
    "\n",
    "X_train, X_test, y_train, y_test = train_test_split(X, y, test_size = 0.2, stratify=y)\n",
    "\n",
    "model = MultinomialNB()\n",
    "model.fit(X_train, y_train)\n",
    "\n",
    "y_train_pred = model.predict(X_train)\n",
    "y_test_pred = model.predict(X_test)\n",
    "\n",
    "print(\"Train accuracy : \" + str(accuracy_score(y_train, y_train_pred)))\n",
    "print(\"Test accuracy : \" + str(accuracy_score(y_test, y_test_pred)))\n",
    "\n",
    "def detect_language(text) :\n",
    "  prediction = model.predict(cv.transform([text]))\n",
    "  return encoder.inverse_transform(prediction).item()  \n",
    "\n",
    "\n",
    "print(\"Test on a few sentences :\")\n",
    "\n",
    "str1 = 'Bonjour je suis une délicieuse chocolatine'\n",
    "str2 = 'Hello i like to drink tea and invade foreign countries'\n",
    "str3 = 'Hola me gusta los pollos hermanos'\n",
    "\n",
    "print(str1 + ' : ' + detect_language(str1))\n",
    "print(str2 + ' : ' + detect_language(str2))\n",
    "print(str3 + ' : ' + detect_language(str3))\n",
    "\n",
    "################################################"
   ]
  },
  {
   "cell_type": "code",
   "execution_count": 101,
   "metadata": {
    "colab": {
     "base_uri": "https://localhost:8080/",
     "height": 449
    },
    "id": "EAiSe2yKjcKu",
    "outputId": "9d8dfe85-5307-4ca9-a5ad-d8e67d53f50e"
   },
   "outputs": [
    {
     "data": {
      "text/plain": [
       "<matplotlib.image.AxesImage at 0x7f10b3971e10>"
      ]
     },
     "execution_count": 101,
     "metadata": {},
     "output_type": "execute_result"
    },
    {
     "data": {
      "image/png": "[encoded data removed]",
      "text/plain": [
       "<Figure size 1500x1500 with 2 Axes>"
      ]
     },
     "metadata": {},
     "output_type": "display_data"
    }
   ],
   "source": [
    "import matplotlib.pyplot as plt\n",
    "\n",
    "plt.rcParams['figure.figsize'] = [15, 15]\n",
    "\n",
    "_, (ax1, ax2) = plt.subplots(ncols=2)\n",
    "\n",
    "\n",
    "ax1.set_title(\"On training dataset\")\n",
    "ax2.set_title(\"On testing dataset\")\n",
    "\n",
    "ax1.matshow(confusion_matrix(y_train, y_train_pred))\n",
    "ax2.matshow(confusion_matrix(y_test, y_test_pred))"
   ]
  },
  {
   "cell_type": "markdown",
   "metadata": {
    "id": "fHA8ZAzCsX-V"
   },
   "source": [
    "The overall accuracy is 96% which is pretty good. However, the tokenization of chinese and japanese is not perfect so it could be improved.\n",
    "From the confusion matrix we can see our model has a little trouble with arabic and thai (index 0 and 19). We can also see that sometimes, languages are misinterpreted as english (index 3), which may be caused to the overpresence of english culture in the world (leading to english words sometimes used in non-english languages)."
   ]
  },
  {
   "cell_type": "markdown",
   "metadata": {
    "id": "C0614tVO--6G"
   },
   "source": [
    "## FastText for language detection"
   ]
  },
  {
   "cell_type": "markdown",
   "metadata": {
    "id": "lhGvhp6kf8E5"
   },
   "source": [
    "## FastText training setup "
   ]
  },
  {
   "cell_type": "code",
   "execution_count": 102,
   "metadata": {
    "colab": {
     "base_uri": "https://localhost:8080/"
    },
    "id": "9ZtDxw9D9aPh",
    "outputId": "b92cc8ff-aa8c-4b17-c1b1-f7c2038942a3"
   },
   "outputs": [
    {
     "name": "stdout",
     "output_type": "stream",
     "text": [
      "URL transformed to HTTPS due to an HSTS policy\n",
      "--2023-01-03 12:56:10--  https://downloads.tatoeba.org/exports/sentences.tar.bz2\n",
      "Certificat de l’autorité de certification « /etc/ssl/certs/ca-certificates.crt » chargé\n",
      "Résolution de downloads.tatoeba.org (downloads.tatoeba.org)… 94.130.77.194\n",
      "Connexion à downloads.tatoeba.org (downloads.tatoeba.org)|94.130.77.194|:443… connecté.\n",
      "requête HTTP transmise, en attente de la réponse… 200 OK\n",
      "Taille : 172433658 (164M) [application/octet-stream]\n",
      "Sauvegarde en : « sentences.tar.bz2 »\n",
      "\n",
      "sentences.tar.bz2   100%[===================>] 164,45M  2,07MB/s    ds 79s     \n",
      "\n",
      "2023-01-03 12:57:29 (2,07 MB/s) — « sentences.tar.bz2 » sauvegardé [172433658/172433658]\n",
      "\n"
     ]
    }
   ],
   "source": [
    "! wget http://downloads.tatoeba.org/exports/sentences.tar.bz2"
   ]
  },
  {
   "cell_type": "code",
   "execution_count": 103,
   "metadata": {
    "id": "t9ETznJA9cLw"
   },
   "outputs": [
    {
     "name": "stdout",
     "output_type": "stream",
     "text": [
      "bunzip2: Output file sentences.tar already exists.\n"
     ]
    }
   ],
   "source": [
    "! bunzip2 sentences.tar.bz2"
   ]
  },
  {
   "cell_type": "code",
   "execution_count": 104,
   "metadata": {
    "colab": {
     "base_uri": "https://localhost:8080/"
    },
    "id": "cihDm5c99oZh",
    "outputId": "c57989ab-a5f9-4a7f-b745-a4383c7403b6"
   },
   "outputs": [
    {
     "name": "stdout",
     "output_type": "stream",
     "text": [
      "all.txt\t\t  LanguageDetection  sentences.tar\ttrain.txt\n",
      "Lab2_EPITA.ipynb  Practical_2.pdf    sentences.tar.bz2\tvalid.txt\n",
      "langdetect.bin\t  sentences.csv      test.txt\n"
     ]
    }
   ],
   "source": [
    "! ls"
   ]
  },
  {
   "cell_type": "code",
   "execution_count": 105,
   "metadata": {
    "colab": {
     "base_uri": "https://localhost:8080/"
    },
    "id": "yPZSloMN-cM0",
    "outputId": "725dd438-22f9-4370-daea-2a974deb4f21"
   },
   "outputs": [
    {
     "name": "stdout",
     "output_type": "stream",
     "text": [
      "sentences.csv\n"
     ]
    }
   ],
   "source": [
    "! tar xvf sentences.tar"
   ]
  },
  {
   "cell_type": "code",
   "execution_count": 106,
   "metadata": {
    "colab": {
     "base_uri": "https://localhost:8080/"
    },
    "id": "Si8T701N-h5p",
    "outputId": "487e0b3c-6f6f-4655-aca6-19dd1821cfb4"
   },
   "outputs": [
    {
     "name": "stdout",
     "output_type": "stream",
     "text": [
      "all.txt\t\t  LanguageDetection  sentences.tar\ttrain.txt\n",
      "Lab2_EPITA.ipynb  Practical_2.pdf    sentences.tar.bz2\tvalid.txt\n",
      "langdetect.bin\t  sentences.csv      test.txt\n"
     ]
    }
   ],
   "source": [
    "! ls"
   ]
  },
  {
   "cell_type": "code",
   "execution_count": 107,
   "metadata": {
    "colab": {
     "base_uri": "https://localhost:8080/"
    },
    "id": "rtjL8hYg-nZJ",
    "outputId": "51dbbf78-b229-4686-eba1-075d468de388"
   },
   "outputs": [
    {
     "name": "stdout",
     "output_type": "stream",
     "text": [
      "==> entrée standard <==\n",
      "^C\n"
     ]
    }
   ],
   "source": [
    "! head - sentences.csv"
   ]
  },
  {
   "cell_type": "code",
   "execution_count": 108,
   "metadata": {
    "id": "KTtbtb5E-tFP"
   },
   "outputs": [],
   "source": [
    "! awk -F\"\\t\" '{print\"__label__\"$2\" \"$3}' < sentences.csv | shuf > all.txt"
   ]
  },
  {
   "cell_type": "code",
   "execution_count": 109,
   "metadata": {
    "colab": {
     "base_uri": "https://localhost:8080/"
    },
    "id": "E5CwoZkl_JS2",
    "outputId": "6d31c439-3a20-42d8-d91e-e5cc5ddb421b"
   },
   "outputs": [
    {
     "name": "stdout",
     "output_type": "stream",
     "text": [
      "all.txt\t\t  LanguageDetection  sentences.tar\ttrain.txt\n",
      "Lab2_EPITA.ipynb  Practical_2.pdf    sentences.tar.bz2\tvalid.txt\n",
      "langdetect.bin\t  sentences.csv      test.txt\n"
     ]
    }
   ],
   "source": [
    "! ls"
   ]
  },
  {
   "cell_type": "code",
   "execution_count": 110,
   "metadata": {
    "colab": {
     "base_uri": "https://localhost:8080/"
    },
    "id": "Uj17b-zF_V65",
    "outputId": "6b0bd1eb-1990-4132-c56d-687a24276896"
   },
   "outputs": [
    {
     "name": "stdout",
     "output_type": "stream",
     "text": [
      "__label__hun Nemeslelkű.\n",
      "__label__por Tirem essa gata daqui, por favor! Ela está bagunçando tudo.\n",
      "__label__tur O soruları yanıtladı.\n",
      "__label__fin Yritetäänpä tehdä jotain.\n",
      "__label__rus Я смог переплыть через Ла-Манш.\n"
     ]
    }
   ],
   "source": [
    "! head -5 all.txt"
   ]
  },
  {
   "cell_type": "code",
   "execution_count": 111,
   "metadata": {
    "id": "eJFTaHZ8_D6V"
   },
   "outputs": [],
   "source": [
    "! head -n 10000 all.txt > valid.txt"
   ]
  },
  {
   "cell_type": "code",
   "execution_count": 112,
   "metadata": {
    "id": "FJeo9_MD_qq8"
   },
   "outputs": [],
   "source": [
    "! tail -n +10001 all.txt > train.txt"
   ]
  },
  {
   "cell_type": "code",
   "execution_count": 113,
   "metadata": {
    "colab": {
     "base_uri": "https://localhost:8080/"
    },
    "id": "2ZSiMBU7Aabp",
    "outputId": "07ecdaff-e9c4-4085-e44c-d8cfbc02dc2e"
   },
   "outputs": [
    {
     "name": "stdout",
     "output_type": "stream",
     "text": [
      "__label__ita Sto andando in banca.\n",
      "__label__ber Inimt-iyi-d d acu ay tettwalimt deg tugna-a.\n",
      "__label__rus Возможно, я заблуждаюсь.\n",
      "__label__tur Annen senin için odanı temizler mi?\n",
      "__label__eng He was drinking the beer.\n"
     ]
    }
   ],
   "source": [
    "! head -5 train.txt"
   ]
  },
  {
   "cell_type": "markdown",
   "metadata": {
    "id": "4YN516w-3Mea"
   },
   "source": [
    "### Question 6.1. Train fasttext model on Tatoeba (2 points)"
   ]
  },
  {
   "cell_type": "code",
   "execution_count": 114,
   "metadata": {
    "id": "tgjR-C7QZvh-"
   },
   "outputs": [
    {
     "name": "stderr",
     "output_type": "stream",
     "text": [
      "Read 89M words\n",
      "Number of words:  4170153\n",
      "Number of labels: 415\n",
      "Progress: 100.0% words/sec/thread:   85446 lr: -0.000000 avg.loss:  0.132090 ETA:   0h 0m 0s ETA:   0h 5m 5s ETA:   0h 3m27s  85302 lr:  0.017681 avg.loss:  0.153148 ETA:   0h 1m 1s 0.016055 avg.loss:  0.150790 ETA:   0h 0m56s"
     ]
    },
    {
     "name": "stdout",
     "output_type": "stream",
     "text": [
      "CPU times: user 1h 26min 44s, sys: 4.85 s, total: 1h 26min 49s\n",
      "Wall time: 6min 10s\n"
     ]
    },
    {
     "name": "stderr",
     "output_type": "stream",
     "text": [
      "Progress: 100.0% words/sec/thread:   85446 lr:  0.000000 avg.loss:  0.132085 ETA:   0h 0m 0s\n"
     ]
    }
   ],
   "source": [
    "%%time\n",
    "import fasttext\n",
    "\n",
    "# Check the fasttext library and implement the training\n",
    "###########################################\n",
    "\n",
    "# your implementation goes here\n",
    "\n",
    "model = fasttext.train_supervised(input=\"train.txt\")\n",
    "\n",
    "################################################\n",
    "\n",
    "# @TODO: Save your model when trained \n",
    "model.save_model(\"langdetect.bin\")"
   ]
  },
  {
   "cell_type": "code",
   "execution_count": 115,
   "metadata": {
    "id": "iFQcolkmIXZr"
   },
   "outputs": [
    {
     "data": {
      "text/plain": [
       "(('__label__eng',), array([1.00000834]))"
      ]
     },
     "execution_count": 115,
     "metadata": {},
     "output_type": "execute_result"
    }
   ],
   "source": [
    "# Sanity check \n",
    "model.predict(\"I am French and I love English\")"
   ]
  },
  {
   "cell_type": "markdown",
   "metadata": {
    "id": "PZYQz3zh3VK5"
   },
   "source": [
    "### Question 6.2. Evaluate performance of fasttext model on valid.txt (1 point)"
   ]
  },
  {
   "cell_type": "code",
   "execution_count": 116,
   "metadata": {
    "id": "SWNZ5TSdKGgT"
   },
   "outputs": [
    {
     "name": "stdout",
     "output_type": "stream",
     "text": [
      "Accuracy on valid.txt : 0.9576\n"
     ]
    }
   ],
   "source": [
    "# Hint: Create dataframe from valid.txt and evaluate performance \n",
    "\n",
    "###########################################\n",
    "\n",
    "# your implementation goes here\n",
    "\n",
    "_, precision, _ = model.test(\"valid.txt\")\n",
    "\n",
    "print(\"Accuracy on valid.txt : \" + str(precision))\n",
    "################################################"
   ]
  },
  {
   "cell_type": "markdown",
   "metadata": {
    "id": "KssPimX_lbNS"
   },
   "source": [
    "### Question 7 & 8. Test your FastText model on the same dataset as question 5."
   ]
  },
  {
   "cell_type": "code",
   "execution_count": 117,
   "metadata": {
    "id": "oJYVrn8FhcQf"
   },
   "outputs": [
    {
     "name": "stdout",
     "output_type": "stream",
     "text": [
      "Accuracy on test.txt : 0.8011363636363636\n"
     ]
    }
   ],
   "source": [
    "###########################################\n",
    "\n",
    "# your implementation goes here\n",
    "\n",
    "to_iso = {\n",
    "    'Arabic' : \"ara\",\n",
    "    'Chinese' : \"cmn\",\n",
    "    'Dutch' : \"nld\",\n",
    "    'English' : \"eng\",\n",
    "    'Estonian' : \"est\",\n",
    "    'French' : \"fra\",\n",
    "    'Hindi' : \"hin\",\n",
    "    'Indonesian' : \"ind\",\n",
    "    'Japanese' : \"jpn\",\n",
    "    'Korean' : \"kor\",\n",
    "    'Latin' : \"lat\",\n",
    "    'Persian' : \"pes\",\n",
    "    'Portugese' : \"por\",\n",
    "    'Pushto' : \"pus\",\n",
    "    'Romanian' : \"ron\",\n",
    "    'Russian' : \"rus\",\n",
    "    'Spanish' : \"spa\",\n",
    "    'Swedish' : \"swe\",\n",
    "    'Tamil' : \"tam\",\n",
    "    'Thai' : \"tha\",\n",
    "    'Turkish' : \"tur\",\n",
    "    'Urdu' : \"urd\" \n",
    "}\n",
    "\n",
    "def fasttext_file(filename, x, y) -> None:\n",
    "    \"\"\"Save x and y data into a fasttext-like file.\n",
    "    Args:\n",
    "        filename: Name of the file to generate.\n",
    "        x: List of strings.\n",
    "        y: List of labels (x's labels).\n",
    "    \"\"\"\n",
    "    file = open(filename, 'w')\n",
    "    for text, label in zip(x, y):\n",
    "        file.write(f\"__label__{to_iso[encoder.inverse_transform([label]).item()]} {text}\\n\")\n",
    "    file.close()\n",
    "\n",
    "X=data['Text']\n",
    "\n",
    "X_train, X_test, y_train, y_test = train_test_split(X, y, test_size = 0.2, random_state=42, stratify=y)\n",
    "\n",
    "fasttext_file('test.txt', X_test, y_test)\n",
    "\n",
    "_, precision, _ = model.test(\"test.txt\")\n",
    "\n",
    "print(\"Accuracy on test.txt : \" + str(precision))\n",
    "\n",
    "################################################"
   ]
  },
  {
   "cell_type": "code",
   "execution_count": 121,
   "metadata": {
    "id": "7sgOYS7uhcB5"
   },
   "outputs": [
    {
     "data": {
      "text/plain": [
       "<matplotlib.image.AxesImage at 0x7f10b3669450>"
      ]
     },
     "execution_count": 121,
     "metadata": {},
     "output_type": "execute_result"
    },
    {
     "data": {
      "image/png": "[encoded data removed]",
      "text/plain": [
       "<Figure size 500x500 with 1 Axes>"
      ]
     },
     "metadata": {},
     "output_type": "display_data"
    }
   ],
   "source": [
    "###########################################\n",
    "\n",
    "# your implementation goes here\n",
    "\n",
    "to_word = dict([reversed(i) for i in to_iso.items()])\n",
    "\n",
    "plt.rcParams['figure.figsize'] = [10, 5]\n",
    "\n",
    "y_pred = []\n",
    "\n",
    "for text in X_test :\n",
    "    prediction = model.predict(text)[0][0][-3:]\n",
    "    if (to_word.get(prediction) != None) :\n",
    "        y_pred.append(encoder.transform([to_word[prediction]]).item())\n",
    "    else :\n",
    "        y_pred.append(len(encoder.classes_))\n",
    "\n",
    "plt.matshow(confusion_matrix(y_test, y_pred))\n",
    "\n",
    "################################################"
   ]
  },
  {
   "cell_type": "markdown",
   "metadata": {},
   "source": [
    "The performance is not as good when testing with the dataset from question 1.5, as we obtained an accuracy of 80 %. We can see from the confusion matrix that our fasttext model has problem with specific languages : pushto (13) which it identifies as ottoman turkish, chinese (1) which it identifies as japanese (8), and thai (19) which it often identifies with different other languages. This may be because of difference between the dataset from question 1.5 and the Tatoeba dataset. For example, the Tatoeba dataset contains much more languages than this dataset, which leads our trained model to often classify a sentence with a language that is not present in the dataset. The tatoeba dataset also mostly contains short sentences, while our dataset sometimes has long paragraphs of multiple sentences (especially true for chinese)."
   ]
  },
  {
   "cell_type": "markdown",
   "metadata": {},
   "source": [
    "### Compute precision and recall for Japanese, compare with sklearn"
   ]
  },
  {
   "cell_type": "code",
   "execution_count": 144,
   "metadata": {},
   "outputs": [
    {
     "name": "stdout",
     "output_type": "stream",
     "text": [
      "Precision for japanese is 31.5\n",
      "Recall for japanese is 63.0\n"
     ]
    }
   ],
   "source": [
    "def compute_precision_recall(y, y_pred, class_name) :\n",
    "    class_idx = encoder.transform([class_name]).item()\n",
    "    correct = 0\n",
    "    predicted = 0\n",
    "    actual = 0\n",
    "    \n",
    "    for i in range(len(y)) :\n",
    "        if y[i] == class_idx :\n",
    "            actual += 1\n",
    "            \n",
    "        if y_pred[i] == class_idx :\n",
    "            predicted += 1\n",
    "            \n",
    "            if y[i] == y_pred[i] :\n",
    "                correct += 1\n",
    "    return correct / predicted, correct / actual\n",
    "\n",
    "jpn_p, jpn_r = compute_precision_recall(y_test, y_pred, \"Japanese\")\n",
    "\n",
    "print(\"Precision for japanese is \" + str(jpn_p * 100))\n",
    "print(\"Recall for japanese is \" + str(jpn_r * 100))"
   ]
  },
  {
   "cell_type": "code",
   "execution_count": 148,
   "metadata": {},
   "outputs": [
    {
     "name": "stdout",
     "output_type": "stream",
     "text": [
      "Sklearn precision for japanese is 31.5\n",
      "Sklearn recall for japanese is 63.0\n"
     ]
    }
   ],
   "source": [
    "from sklearn import metrics \n",
    "\n",
    "dic = metrics.classification_report(y_test, y_pred, zero_division=0, output_dict=True)\n",
    "class_idx = str(encoder.transform([\"Japanese\"]).item())\n",
    "\n",
    "print(\"Sklearn precision for japanese is \" + str(dic[class_idx][\"precision\"] * 100))\n",
    "print(\"Sklearn recall for japanese is \" + str(dic[class_idx][\"recall\"] * 100))\n"
   ]
  },
  {
   "cell_type": "markdown",
   "metadata": {
    "id": "UMWTa9Vnep8a",
    "tags": []
   },
   "source": [
    "# II. Rotate two semantic spaces (23 points)"
   ]
  },
  {
   "cell_type": "markdown",
   "metadata": {
    "id": "NPmsqbWH7FaD"
   },
   "source": [
    "## Setup"
   ]
  },
  {
   "cell_type": "code",
   "execution_count": null,
   "metadata": {
    "colab": {
     "base_uri": "https://localhost:8080/"
    },
    "id": "-3daMllJP75s",
    "outputId": "64569e2e-e14f-4d6e-b57a-8bffea8889e3"
   },
   "outputs": [
    {
     "name": "stdout",
     "output_type": "stream",
     "text": [
      "--2022-12-24 09:18:57--  https://github.com/MegaloPat/NLP3/raw/main/LAB02/MUSE.zip\n",
      "Resolving github.com (github.com)... 20.205.243.166\n",
      "Connecting to github.com (github.com)|20.205.243.166|:443... connected.\n",
      "HTTP request sent, awaiting response... 302 Found\n",
      "Location: https://raw.githubusercontent.com/MegaloPat/NLP3/main/LAB02/MUSE.zip [following]\n",
      "--2022-12-24 09:18:58--  https://raw.githubusercontent.com/MegaloPat/NLP3/main/LAB02/MUSE.zip\n",
      "Resolving raw.githubusercontent.com (raw.githubusercontent.com)... 185.199.108.133, 185.199.109.133, 185.199.110.133, ...\n",
      "Connecting to raw.githubusercontent.com (raw.githubusercontent.com)|185.199.108.133|:443... connected.\n",
      "HTTP request sent, awaiting response... 200 OK\n",
      "Length: 409515 (400K) [application/zip]\n",
      "Saving to: ‘MUSE.zip’\n",
      "\n",
      "MUSE.zip            100%[===================>] 399.92K  --.-KB/s    in 0.003s  \n",
      "\n",
      "2022-12-24 09:18:58 (149 MB/s) - ‘MUSE.zip’ saved [409515/409515]\n",
      "\n"
     ]
    }
   ],
   "source": [
    "# If on Colab, upload the version of MUSE on https://github.com/MegaloPat/NLP3\n",
    "# The original version of MUSE is bugged\n",
    "\n",
    "if 'google.colab' in str(get_ipython()):\n",
    "  ! wget https://github.com/MegaloPat/NLP3/raw/main/LAB02/MUSE.zip"
   ]
  },
  {
   "cell_type": "code",
   "execution_count": null,
   "metadata": {
    "colab": {
     "base_uri": "https://localhost:8080/"
    },
    "id": "eA8kS6nFjSeW",
    "outputId": "1a083447-1349-4734-d67d-e6ba52c09197"
   },
   "outputs": [
    {
     "name": "stdout",
     "output_type": "stream",
     "text": [
      "Archive:  MUSE.zip\n",
      "   creating: MUSE/\n",
      "   creating: MUSE/.git/\n",
      "   creating: MUSE/.git/refs/\n",
      "   creating: MUSE/.git/refs/tags/\n",
      "   creating: MUSE/.git/refs/heads/\n",
      " extracting: MUSE/.git/refs/heads/main  \n",
      " extracting: MUSE/.git/refs/heads/automated_fixup_contributing_file_exists  \n",
      "   creating: MUSE/.git/refs/remotes/\n",
      "   creating: MUSE/.git/refs/remotes/origin/\n",
      " extracting: MUSE/.git/refs/remotes/origin/HEAD  \n",
      "   creating: MUSE/.git/info/\n",
      "  inflating: MUSE/.git/info/exclude  \n",
      "  inflating: MUSE/.git/index         \n",
      "   creating: MUSE/.git/objects/\n",
      "   creating: MUSE/.git/objects/info/\n",
      "   creating: MUSE/.git/objects/pack/\n",
      "  inflating: MUSE/.git/objects/pack/pack-19aa2974edd15da501b3a823f7648d13c8551234.pack  \n",
      "  inflating: MUSE/.git/objects/pack/pack-19aa2974edd15da501b3a823f7648d13c8551234.idx  \n",
      " extracting: MUSE/.git/ORIG_HEAD     \n",
      "   creating: MUSE/.git/logs/\n",
      "   creating: MUSE/.git/logs/refs/\n",
      "   creating: MUSE/.git/logs/refs/heads/\n",
      "  inflating: MUSE/.git/logs/refs/heads/main  \n",
      "  inflating: MUSE/.git/logs/refs/heads/automated_fixup_contributing_file_exists  \n",
      "   creating: MUSE/.git/logs/refs/remotes/\n",
      "   creating: MUSE/.git/logs/refs/remotes/origin/\n",
      "  inflating: MUSE/.git/logs/refs/remotes/origin/HEAD  \n",
      "  inflating: MUSE/.git/logs/HEAD     \n",
      "  inflating: MUSE/.git/description   \n",
      "   creating: MUSE/.git/branches/\n",
      "  inflating: MUSE/.git/config        \n",
      "  inflating: MUSE/.git/packed-refs   \n",
      " extracting: MUSE/.git/HEAD          \n",
      "   creating: MUSE/.git/hooks/\n",
      "  inflating: MUSE/.git/hooks/pre-rebase.sample  \n",
      "  inflating: MUSE/.git/hooks/pre-merge-commit.sample  \n",
      "  inflating: MUSE/.git/hooks/push-to-checkout.sample  \n",
      "  inflating: MUSE/.git/hooks/commit-msg.sample  \n",
      "  inflating: MUSE/.git/hooks/pre-receive.sample  \n",
      "  inflating: MUSE/.git/hooks/applypatch-msg.sample  \n",
      "  inflating: MUSE/.git/hooks/prepare-commit-msg.sample  \n",
      "  inflating: MUSE/.git/hooks/pre-commit.sample  \n",
      "  inflating: MUSE/.git/hooks/update.sample  \n",
      "  inflating: MUSE/.git/hooks/pre-applypatch.sample  \n",
      "  inflating: MUSE/.git/hooks/fsmonitor-watchman.sample  \n",
      "  inflating: MUSE/.git/hooks/post-update.sample  \n",
      "  inflating: MUSE/.git/hooks/pre-push.sample  \n",
      "  inflating: MUSE/supervised.py      \n",
      "  inflating: MUSE/README.md          \n",
      "   creating: MUSE/data/\n",
      "  inflating: MUSE/data/get_evaluation.sh  \n",
      "   creating: MUSE/src/\n",
      "  inflating: MUSE/src/logger.py      \n",
      "   creating: MUSE/src/evaluation/\n",
      "  inflating: MUSE/src/evaluation/sent_translation.py  \n",
      "  inflating: MUSE/src/evaluation/word_translation.py  \n",
      "  inflating: MUSE/src/evaluation/__init__.py  \n",
      "  inflating: MUSE/src/evaluation/wordsim.py  \n",
      "  inflating: MUSE/src/evaluation/evaluator.py  \n",
      "  inflating: MUSE/src/dictionary.py  \n",
      "  inflating: MUSE/src/models.py      \n",
      "  inflating: MUSE/src/utils.py       \n",
      "  inflating: MUSE/src/trainer.py     \n",
      " extracting: MUSE/src/__init__.py    \n",
      "  inflating: MUSE/src/dico_builder.py  \n",
      "  inflating: MUSE/demo.ipynb         \n",
      "  inflating: MUSE/.gitignore         \n",
      "  inflating: MUSE/outline_all.png    \n",
      "  inflating: MUSE/LICENSE            \n",
      "  inflating: MUSE/evaluate.py        \n",
      "  inflating: MUSE/unsupervised.py    \n"
     ]
    }
   ],
   "source": [
    "! unzip MUSE.zip\n"
   ]
  },
  {
   "cell_type": "code",
   "execution_count": null,
   "metadata": {
    "colab": {
     "base_uri": "https://localhost:8080/"
    },
    "id": "CTpFvw3KepHF",
    "outputId": "376cdd10-0a1a-4008-cd69-5a895c809f93"
   },
   "outputs": [
    {
     "name": "stdout",
     "output_type": "stream",
     "text": [
      "  % Total    % Received % Xferd  Average Speed   Time    Time     Time  Current\n",
      "                                 Dload  Upload   Total   Spent    Left  Speed\n",
      "100 2886M  100 2886M    0     0  12.2M      0  0:03:56  0:03:56 --:--:-- 12.3M\n",
      "  % Total    % Received % Xferd  Average Speed   Time    Time     Time  Current\n",
      "                                 Dload  Upload   Total   Spent    Left  Speed\n",
      "100 6291M  100 6291M    0     0  10.6M      0  0:09:50  0:09:50 --:--:-- 12.7M\n"
     ]
    }
   ],
   "source": [
    "!curl -Lo MUSE/data/wiki.fr.vec https://dl.fbaipublicfiles.com/fasttext/vectors-wiki/wiki.fr.vec\n",
    "!curl -Lo MUSE/data/wiki.en.vec https://dl.fbaipublicfiles.com/fasttext/vectors-wiki/wiki.en.vec\n"
   ]
  },
  {
   "cell_type": "code",
   "execution_count": null,
   "metadata": {
    "colab": {
     "base_uri": "https://localhost:8080/"
    },
    "id": "JtV4BcGjZIzy",
    "outputId": "7e284af4-2d6d-48d9-abd5-3b7e5e311add"
   },
   "outputs": [
    {
     "name": "stdout",
     "output_type": "stream",
     "text": [
      "Looking in indexes: https://pypi.org/simple, https://us-python.pkg.dev/colab-wheels/public/simple/\n",
      "Collecting faiss-gpu\n",
      "  Downloading faiss_gpu-1.7.2-cp38-cp38-manylinux_2_17_x86_64.manylinux2014_x86_64.whl (85.5 MB)\n",
      "\u001b[K     |████████████████████████████████| 85.5 MB 98 kB/s \n",
      "\u001b[?25hInstalling collected packages: faiss-gpu\n",
      "Successfully installed faiss-gpu-1.7.2\n"
     ]
    }
   ],
   "source": [
    "!pip install faiss-gpu"
   ]
  },
  {
   "cell_type": "markdown",
   "metadata": {
    "id": "5ny9w7xY7BJ2"
   },
   "source": [
    "## Launch the training"
   ]
  },
  {
   "cell_type": "code",
   "execution_count": null,
   "metadata": {
    "id": "9iQc2JlPNStF"
   },
   "outputs": [],
   "source": [
    "os.chdir(\"MUSE\")"
   ]
  },
  {
   "cell_type": "code",
   "execution_count": null,
   "metadata": {
    "colab": {
     "base_uri": "https://localhost:8080/"
    },
    "id": "axnhkt5ESckl",
    "outputId": "03cde649-003c-42f9-e4b4-a5547b27dbba"
   },
   "outputs": [
    {
     "name": "stdout",
     "output_type": "stream",
     "text": [
      "INFO - 12/24/22 09:33:02 - 0:00:00 - ============ Initialized logger ============\n",
      "INFO - 12/24/22 09:33:02 - 0:00:00 - adversarial: True\n",
      "                                     batch_size: 32\n",
      "                                     cuda: True\n",
      "                                     dico_build: S2T\n",
      "                                     dico_eval: default\n",
      "                                     dico_max_rank: 15000\n",
      "                                     dico_max_size: 0\n",
      "                                     dico_method: csls_knn_10\n",
      "                                     dico_min_size: 0\n",
      "                                     dico_threshold: 0\n",
      "                                     dis_clip_weights: 0\n",
      "                                     dis_dropout: 0.0\n",
      "                                     dis_hid_dim: 2048\n",
      "                                     dis_input_dropout: 0.1\n",
      "                                     dis_lambda: 1\n",
      "                                     dis_layers: 2\n",
      "                                     dis_most_frequent: 75000\n",
      "                                     dis_optimizer: sgd,lr=0.1\n",
      "                                     dis_smooth: 0.1\n",
      "                                     dis_steps: 5\n",
      "                                     emb_dim: 300\n",
      "                                     epoch_size: 1000000\n",
      "                                     exp_id: \n",
      "                                     exp_name: fr_to_en\n",
      "                                     exp_path: ./fr_to_en/7ulpns4r9u\n",
      "                                     export: \n",
      "                                     lr_decay: 0.98\n",
      "                                     lr_shrink: 0.5\n",
      "                                     map_beta: 0.001\n",
      "                                     map_id_init: True\n",
      "                                     map_optimizer: sgd,lr=0.1\n",
      "                                     max_vocab: 200000\n",
      "                                     min_lr: 1e-06\n",
      "                                     n_epochs: 1\n",
      "                                     n_refinement: 5\n",
      "                                     normalize_embeddings: \n",
      "                                     seed: -1\n",
      "                                     src_emb: data/wiki.fr.vec\n",
      "                                     src_lang: fr\n",
      "                                     tgt_emb: data/wiki.en.vec\n",
      "                                     tgt_lang: en\n",
      "                                     verbose: 2\n",
      "INFO - 12/24/22 09:33:02 - 0:00:00 - The experiment will be stored in ./fr_to_en/7ulpns4r9u\n",
      "INFO - 12/24/22 09:33:23 - 0:00:20 - Loaded 200000 pre-trained word embeddings.\n",
      "INFO - 12/24/22 09:33:42 - 0:00:40 - Loaded 200000 pre-trained word embeddings.\n",
      "INFO - 12/24/22 09:33:44 - 0:00:41 - ----> ADVERSARIAL TRAINING <----\n",
      "                                     \n",
      "                                     \n",
      "INFO - 12/24/22 09:33:44 - 0:00:41 - Starting adversarial training epoch 0...\n",
      "/content/MUSE/src/trainer.py:69: UserWarning: volatile was removed and now has no effect. Use `with torch.no_grad():` instead.\n",
      "  src_emb = self.src_emb(Variable(src_ids, volatile=True))\n",
      "/content/MUSE/src/trainer.py:70: UserWarning: volatile was removed and now has no effect. Use `with torch.no_grad():` instead.\n",
      "  tgt_emb = self.tgt_emb(Variable(tgt_ids, volatile=True))\n",
      "/content/MUSE/src/trainer.py:71: UserWarning: volatile was removed and now has no effect. Use `with torch.no_grad():` instead.\n",
      "  src_emb = self.mapping(Variable(src_emb.data, volatile=volatile))\n",
      "/content/MUSE/src/trainer.py:72: UserWarning: volatile was removed and now has no effect. Use `with torch.no_grad():` instead.\n",
      "  tgt_emb = Variable(tgt_emb.data, volatile=volatile)\n",
      "INFO - 12/24/22 09:33:46 - 0:00:44 - 000000 - Discriminator loss: 0.6773 - 21 samples/s\n",
      "INFO - 12/24/22 09:33:48 - 0:00:46 - 004000 - Discriminator loss: 0.6163 - 5121 samples/s\n",
      "INFO - 12/24/22 09:33:50 - 0:00:47 - 008000 - Discriminator loss: 0.5165 - 5261 samples/s\n",
      "INFO - 12/24/22 09:33:51 - 0:00:49 - 012000 - Discriminator loss: 0.5475 - 5362 samples/s\n",
      "INFO - 12/24/22 09:33:53 - 0:00:50 - 016000 - Discriminator loss: 0.5542 - 5340 samples/s\n",
      "INFO - 12/24/22 09:33:54 - 0:00:52 - 020000 - Discriminator loss: 0.5521 - 5365 samples/s\n",
      "INFO - 12/24/22 09:33:55 - 0:00:53 - 024000 - Discriminator loss: 0.5392 - 5395 samples/s\n",
      "INFO - 12/24/22 09:33:57 - 0:00:55 - 028000 - Discriminator loss: 0.5211 - 5310 samples/s\n",
      "INFO - 12/24/22 09:33:58 - 0:00:56 - 032000 - Discriminator loss: 0.5021 - 5352 samples/s\n",
      "INFO - 12/24/22 09:34:00 - 0:00:58 - 036000 - Discriminator loss: 0.4930 - 5330 samples/s\n",
      "INFO - 12/24/22 09:34:01 - 0:00:59 - 040000 - Discriminator loss: 0.4883 - 5297 samples/s\n",
      "INFO - 12/24/22 09:34:03 - 0:01:01 - 044000 - Discriminator loss: 0.4785 - 5373 samples/s\n",
      "INFO - 12/24/22 09:34:04 - 0:01:02 - 048000 - Discriminator loss: 0.4760 - 5364 samples/s\n",
      "INFO - 12/24/22 09:34:06 - 0:01:04 - 052000 - Discriminator loss: 0.4712 - 5200 samples/s\n",
      "INFO - 12/24/22 09:34:08 - 0:01:05 - 056000 - Discriminator loss: 0.4679 - 5352 samples/s\n",
      "INFO - 12/24/22 09:34:09 - 0:01:07 - 060000 - Discriminator loss: 0.4600 - 5342 samples/s\n",
      "INFO - 12/24/22 09:34:11 - 0:01:08 - 064000 - Discriminator loss: 0.4618 - 5238 samples/s\n",
      "INFO - 12/24/22 09:34:12 - 0:01:10 - 068000 - Discriminator loss: 0.4521 - 5363 samples/s\n",
      "INFO - 12/24/22 09:34:14 - 0:01:11 - 072000 - Discriminator loss: 0.4549 - 5354 samples/s\n",
      "INFO - 12/24/22 09:34:15 - 0:01:13 - 076000 - Discriminator loss: 0.4456 - 5257 samples/s\n",
      "INFO - 12/24/22 09:34:17 - 0:01:14 - 080000 - Discriminator loss: 0.4458 - 5319 samples/s\n",
      "INFO - 12/24/22 09:34:18 - 0:01:16 - 084000 - Discriminator loss: 0.4426 - 5199 samples/s\n",
      "INFO - 12/24/22 09:34:20 - 0:01:17 - 088000 - Discriminator loss: 0.4395 - 5282 samples/s\n",
      "INFO - 12/24/22 09:34:21 - 0:01:19 - 092000 - Discriminator loss: 0.4401 - 5327 samples/s\n",
      "INFO - 12/24/22 09:34:23 - 0:01:20 - 096000 - Discriminator loss: 0.4384 - 4837 samples/s\n",
      "INFO - 12/24/22 09:34:25 - 0:01:23 - 100000 - Discriminator loss: 0.4336 - 3719 samples/s\n",
      "INFO - 12/24/22 09:34:26 - 0:01:24 - 104000 - Discriminator loss: 0.4375 - 5338 samples/s\n",
      "INFO - 12/24/22 09:34:28 - 0:01:26 - 108000 - Discriminator loss: 0.4349 - 5355 samples/s\n",
      "INFO - 12/24/22 09:34:29 - 0:01:27 - 112000 - Discriminator loss: 0.4361 - 5450 samples/s\n",
      "INFO - 12/24/22 09:34:31 - 0:01:29 - 116000 - Discriminator loss: 0.4346 - 5388 samples/s\n",
      "INFO - 12/24/22 09:34:32 - 0:01:30 - 120000 - Discriminator loss: 0.4319 - 5334 samples/s\n",
      "INFO - 12/24/22 09:34:34 - 0:01:32 - 124000 - Discriminator loss: 0.4296 - 5324 samples/s\n",
      "INFO - 12/24/22 09:34:35 - 0:01:33 - 128000 - Discriminator loss: 0.4296 - 5221 samples/s\n",
      "INFO - 12/24/22 09:34:37 - 0:01:35 - 132000 - Discriminator loss: 0.4317 - 5292 samples/s\n",
      "INFO - 12/24/22 09:34:38 - 0:01:36 - 136000 - Discriminator loss: 0.4277 - 5371 samples/s\n",
      "INFO - 12/24/22 09:34:40 - 0:01:38 - 140000 - Discriminator loss: 0.4273 - 5298 samples/s\n",
      "INFO - 12/24/22 09:34:41 - 0:01:39 - 144000 - Discriminator loss: 0.4280 - 5306 samples/s\n",
      "INFO - 12/24/22 09:34:43 - 0:01:41 - 148000 - Discriminator loss: 0.4255 - 5281 samples/s\n",
      "INFO - 12/24/22 09:34:44 - 0:01:42 - 152000 - Discriminator loss: 0.4253 - 5275 samples/s\n",
      "INFO - 12/24/22 09:34:46 - 0:01:44 - 156000 - Discriminator loss: 0.4246 - 4788 samples/s\n",
      "INFO - 12/24/22 09:34:48 - 0:01:46 - 160000 - Discriminator loss: 0.4233 - 4478 samples/s\n",
      "INFO - 12/24/22 09:34:50 - 0:01:47 - 164000 - Discriminator loss: 0.4277 - 4113 samples/s\n",
      "INFO - 12/24/22 09:34:51 - 0:01:49 - 168000 - Discriminator loss: 0.4218 - 5092 samples/s\n",
      "INFO - 12/24/22 09:34:53 - 0:01:51 - 172000 - Discriminator loss: 0.4239 - 5334 samples/s\n",
      "INFO - 12/24/22 09:34:54 - 0:01:52 - 176000 - Discriminator loss: 0.4259 - 5263 samples/s\n",
      "INFO - 12/24/22 09:34:56 - 0:01:54 - 180000 - Discriminator loss: 0.4233 - 5348 samples/s\n",
      "INFO - 12/24/22 09:34:57 - 0:01:55 - 184000 - Discriminator loss: 0.4267 - 5336 samples/s\n",
      "INFO - 12/24/22 09:34:59 - 0:01:57 - 188000 - Discriminator loss: 0.4265 - 5317 samples/s\n",
      "INFO - 12/24/22 09:35:00 - 0:01:58 - 192000 - Discriminator loss: 0.4257 - 5372 samples/s\n",
      "INFO - 12/24/22 09:35:02 - 0:02:00 - 196000 - Discriminator loss: 0.4281 - 5330 samples/s\n",
      "INFO - 12/24/22 09:35:03 - 0:02:01 - 200000 - Discriminator loss: 0.4279 - 5261 samples/s\n",
      "INFO - 12/24/22 09:35:05 - 0:02:03 - 204000 - Discriminator loss: 0.4277 - 5383 samples/s\n",
      "INFO - 12/24/22 09:35:06 - 0:02:04 - 208000 - Discriminator loss: 0.4289 - 5154 samples/s\n",
      "INFO - 12/24/22 09:35:08 - 0:02:06 - 212000 - Discriminator loss: 0.4309 - 5361 samples/s\n",
      "INFO - 12/24/22 09:35:09 - 0:02:07 - 216000 - Discriminator loss: 0.4341 - 5237 samples/s\n",
      "INFO - 12/24/22 09:35:11 - 0:02:09 - 220000 - Discriminator loss: 0.4334 - 5236 samples/s\n",
      "INFO - 12/24/22 09:35:13 - 0:02:10 - 224000 - Discriminator loss: 0.4363 - 5299 samples/s\n",
      "INFO - 12/24/22 09:35:14 - 0:02:12 - 228000 - Discriminator loss: 0.4414 - 5330 samples/s\n",
      "INFO - 12/24/22 09:35:16 - 0:02:13 - 232000 - Discriminator loss: 0.4371 - 5279 samples/s\n",
      "INFO - 12/24/22 09:35:17 - 0:02:15 - 236000 - Discriminator loss: 0.4410 - 5248 samples/s\n",
      "INFO - 12/24/22 09:35:19 - 0:02:16 - 240000 - Discriminator loss: 0.4446 - 5235 samples/s\n",
      "INFO - 12/24/22 09:35:20 - 0:02:18 - 244000 - Discriminator loss: 0.4453 - 5241 samples/s\n",
      "INFO - 12/24/22 09:35:22 - 0:02:19 - 248000 - Discriminator loss: 0.4442 - 5286 samples/s\n",
      "INFO - 12/24/22 09:35:23 - 0:02:21 - 252000 - Discriminator loss: 0.4418 - 5302 samples/s\n",
      "INFO - 12/24/22 09:35:25 - 0:02:22 - 256000 - Discriminator loss: 0.4450 - 5254 samples/s\n",
      "INFO - 12/24/22 09:35:26 - 0:02:24 - 260000 - Discriminator loss: 0.4460 - 5294 samples/s\n",
      "INFO - 12/24/22 09:35:28 - 0:02:25 - 264000 - Discriminator loss: 0.4468 - 5310 samples/s\n",
      "INFO - 12/24/22 09:35:29 - 0:02:27 - 268000 - Discriminator loss: 0.4446 - 5383 samples/s\n",
      "INFO - 12/24/22 09:35:31 - 0:02:28 - 272000 - Discriminator loss: 0.4456 - 5356 samples/s\n",
      "INFO - 12/24/22 09:35:32 - 0:02:30 - 276000 - Discriminator loss: 0.4448 - 5404 samples/s\n",
      "INFO - 12/24/22 09:35:34 - 0:02:31 - 280000 - Discriminator loss: 0.4428 - 5426 samples/s\n",
      "INFO - 12/24/22 09:35:35 - 0:02:33 - 284000 - Discriminator loss: 0.4425 - 5378 samples/s\n",
      "INFO - 12/24/22 09:35:37 - 0:02:34 - 288000 - Discriminator loss: 0.4436 - 5221 samples/s\n",
      "INFO - 12/24/22 09:35:38 - 0:02:36 - 292000 - Discriminator loss: 0.4439 - 5301 samples/s\n",
      "INFO - 12/24/22 09:35:40 - 0:02:37 - 296000 - Discriminator loss: 0.4435 - 5321 samples/s\n",
      "INFO - 12/24/22 09:35:41 - 0:02:39 - 300000 - Discriminator loss: 0.4406 - 5282 samples/s\n",
      "INFO - 12/24/22 09:35:43 - 0:02:40 - 304000 - Discriminator loss: 0.4437 - 5382 samples/s\n",
      "INFO - 12/24/22 09:35:44 - 0:02:42 - 308000 - Discriminator loss: 0.4430 - 5276 samples/s\n",
      "INFO - 12/24/22 09:35:46 - 0:02:43 - 312000 - Discriminator loss: 0.4440 - 5400 samples/s\n",
      "INFO - 12/24/22 09:35:47 - 0:02:45 - 316000 - Discriminator loss: 0.4457 - 5244 samples/s\n",
      "INFO - 12/24/22 09:35:49 - 0:02:46 - 320000 - Discriminator loss: 0.4424 - 5332 samples/s\n",
      "INFO - 12/24/22 09:35:50 - 0:02:48 - 324000 - Discriminator loss: 0.4462 - 5370 samples/s\n",
      "INFO - 12/24/22 09:35:52 - 0:02:49 - 328000 - Discriminator loss: 0.4423 - 5291 samples/s\n",
      "INFO - 12/24/22 09:35:53 - 0:02:51 - 332000 - Discriminator loss: 0.4414 - 5389 samples/s\n",
      "INFO - 12/24/22 09:35:55 - 0:02:52 - 336000 - Discriminator loss: 0.4433 - 5421 samples/s\n",
      "INFO - 12/24/22 09:35:56 - 0:02:54 - 340000 - Discriminator loss: 0.4411 - 5311 samples/s\n",
      "INFO - 12/24/22 09:35:58 - 0:02:55 - 344000 - Discriminator loss: 0.4433 - 5364 samples/s\n",
      "INFO - 12/24/22 09:35:59 - 0:02:57 - 348000 - Discriminator loss: 0.4454 - 5347 samples/s\n",
      "INFO - 12/24/22 09:36:01 - 0:02:58 - 352000 - Discriminator loss: 0.4441 - 5397 samples/s\n",
      "INFO - 12/24/22 09:36:02 - 0:03:00 - 356000 - Discriminator loss: 0.4455 - 5374 samples/s\n",
      "INFO - 12/24/22 09:36:04 - 0:03:01 - 360000 - Discriminator loss: 0.4422 - 5292 samples/s\n",
      "INFO - 12/24/22 09:36:05 - 0:03:03 - 364000 - Discriminator loss: 0.4439 - 5309 samples/s\n",
      "INFO - 12/24/22 09:36:07 - 0:03:04 - 368000 - Discriminator loss: 0.4426 - 5239 samples/s\n",
      "INFO - 12/24/22 09:36:08 - 0:03:06 - 372000 - Discriminator loss: 0.4417 - 5305 samples/s\n",
      "INFO - 12/24/22 09:36:10 - 0:03:07 - 376000 - Discriminator loss: 0.4425 - 5292 samples/s\n",
      "INFO - 12/24/22 09:36:11 - 0:03:09 - 380000 - Discriminator loss: 0.4371 - 5214 samples/s\n",
      "INFO - 12/24/22 09:36:13 - 0:03:10 - 384000 - Discriminator loss: 0.4372 - 5357 samples/s\n",
      "INFO - 12/24/22 09:36:14 - 0:03:12 - 388000 - Discriminator loss: 0.4390 - 5389 samples/s\n",
      "INFO - 12/24/22 09:36:16 - 0:03:13 - 392000 - Discriminator loss: 0.4397 - 5308 samples/s\n",
      "INFO - 12/24/22 09:36:17 - 0:03:15 - 396000 - Discriminator loss: 0.4396 - 5291 samples/s\n",
      "INFO - 12/24/22 09:36:19 - 0:03:16 - 400000 - Discriminator loss: 0.4353 - 5341 samples/s\n",
      "INFO - 12/24/22 09:36:20 - 0:03:18 - 404000 - Discriminator loss: 0.4342 - 5385 samples/s\n",
      "INFO - 12/24/22 09:36:22 - 0:03:19 - 408000 - Discriminator loss: 0.4388 - 5316 samples/s\n",
      "INFO - 12/24/22 09:36:23 - 0:03:21 - 412000 - Discriminator loss: 0.4370 - 5316 samples/s\n",
      "INFO - 12/24/22 09:36:25 - 0:03:22 - 416000 - Discriminator loss: 0.4368 - 5301 samples/s\n",
      "INFO - 12/24/22 09:36:26 - 0:03:24 - 420000 - Discriminator loss: 0.4368 - 5442 samples/s\n",
      "INFO - 12/24/22 09:36:28 - 0:03:25 - 424000 - Discriminator loss: 0.4359 - 5412 samples/s\n",
      "INFO - 12/24/22 09:36:29 - 0:03:27 - 428000 - Discriminator loss: 0.4390 - 5357 samples/s\n",
      "INFO - 12/24/22 09:36:31 - 0:03:28 - 432000 - Discriminator loss: 0.4369 - 5408 samples/s\n",
      "INFO - 12/24/22 09:36:32 - 0:03:30 - 436000 - Discriminator loss: 0.4347 - 5377 samples/s\n",
      "INFO - 12/24/22 09:36:34 - 0:03:31 - 440000 - Discriminator loss: 0.4345 - 5371 samples/s\n",
      "INFO - 12/24/22 09:36:35 - 0:03:33 - 444000 - Discriminator loss: 0.4334 - 5327 samples/s\n",
      "INFO - 12/24/22 09:36:37 - 0:03:34 - 448000 - Discriminator loss: 0.4349 - 5350 samples/s\n",
      "INFO - 12/24/22 09:36:38 - 0:03:36 - 452000 - Discriminator loss: 0.4326 - 5314 samples/s\n",
      "INFO - 12/24/22 09:36:40 - 0:03:37 - 456000 - Discriminator loss: 0.4318 - 5320 samples/s\n",
      "INFO - 12/24/22 09:36:41 - 0:03:39 - 460000 - Discriminator loss: 0.4333 - 5312 samples/s\n",
      "INFO - 12/24/22 09:36:43 - 0:03:40 - 464000 - Discriminator loss: 0.4310 - 5403 samples/s\n",
      "INFO - 12/24/22 09:36:44 - 0:03:42 - 468000 - Discriminator loss: 0.4288 - 5281 samples/s\n",
      "INFO - 12/24/22 09:36:46 - 0:03:43 - 472000 - Discriminator loss: 0.4255 - 5396 samples/s\n",
      "INFO - 12/24/22 09:36:47 - 0:03:45 - 476000 - Discriminator loss: 0.4252 - 5368 samples/s\n",
      "INFO - 12/24/22 09:36:49 - 0:03:46 - 480000 - Discriminator loss: 0.4274 - 5367 samples/s\n",
      "INFO - 12/24/22 09:36:50 - 0:03:48 - 484000 - Discriminator loss: 0.4259 - 5484 samples/s\n",
      "INFO - 12/24/22 09:36:52 - 0:03:49 - 488000 - Discriminator loss: 0.4258 - 5318 samples/s\n",
      "INFO - 12/24/22 09:36:53 - 0:03:51 - 492000 - Discriminator loss: 0.4224 - 5381 samples/s\n",
      "INFO - 12/24/22 09:36:55 - 0:03:52 - 496000 - Discriminator loss: 0.4234 - 5366 samples/s\n",
      "INFO - 12/24/22 09:36:56 - 0:03:54 - 500000 - Discriminator loss: 0.4218 - 5433 samples/s\n",
      "INFO - 12/24/22 09:36:57 - 0:03:55 - 504000 - Discriminator loss: 0.4219 - 5335 samples/s\n",
      "INFO - 12/24/22 09:36:59 - 0:03:57 - 508000 - Discriminator loss: 0.4210 - 5524 samples/s\n",
      "INFO - 12/24/22 09:37:00 - 0:03:58 - 512000 - Discriminator loss: 0.4215 - 5390 samples/s\n",
      "INFO - 12/24/22 09:37:02 - 0:04:00 - 516000 - Discriminator loss: 0.4209 - 5363 samples/s\n",
      "INFO - 12/24/22 09:37:03 - 0:04:01 - 520000 - Discriminator loss: 0.4191 - 5306 samples/s\n",
      "INFO - 12/24/22 09:37:05 - 0:04:03 - 524000 - Discriminator loss: 0.4200 - 5347 samples/s\n",
      "INFO - 12/24/22 09:37:06 - 0:04:04 - 528000 - Discriminator loss: 0.4190 - 5296 samples/s\n",
      "INFO - 12/24/22 09:37:08 - 0:04:06 - 532000 - Discriminator loss: 0.4189 - 5220 samples/s\n",
      "INFO - 12/24/22 09:37:09 - 0:04:07 - 536000 - Discriminator loss: 0.4165 - 5361 samples/s\n",
      "INFO - 12/24/22 09:37:11 - 0:04:09 - 540000 - Discriminator loss: 0.4146 - 5328 samples/s\n",
      "INFO - 12/24/22 09:37:12 - 0:04:10 - 544000 - Discriminator loss: 0.4142 - 5298 samples/s\n",
      "INFO - 12/24/22 09:37:14 - 0:04:12 - 548000 - Discriminator loss: 0.4171 - 5295 samples/s\n",
      "INFO - 12/24/22 09:37:16 - 0:04:13 - 552000 - Discriminator loss: 0.4146 - 5255 samples/s\n",
      "INFO - 12/24/22 09:37:17 - 0:04:15 - 556000 - Discriminator loss: 0.4158 - 5260 samples/s\n",
      "INFO - 12/24/22 09:37:19 - 0:04:16 - 560000 - Discriminator loss: 0.4149 - 5310 samples/s\n",
      "INFO - 12/24/22 09:37:20 - 0:04:18 - 564000 - Discriminator loss: 0.4124 - 5207 samples/s\n",
      "INFO - 12/24/22 09:37:22 - 0:04:19 - 568000 - Discriminator loss: 0.4134 - 5303 samples/s\n",
      "INFO - 12/24/22 09:37:23 - 0:04:21 - 572000 - Discriminator loss: 0.4142 - 5308 samples/s\n",
      "INFO - 12/24/22 09:37:25 - 0:04:22 - 576000 - Discriminator loss: 0.4151 - 5360 samples/s\n",
      "INFO - 12/24/22 09:37:26 - 0:04:24 - 580000 - Discriminator loss: 0.4127 - 5344 samples/s\n",
      "INFO - 12/24/22 09:37:28 - 0:04:25 - 584000 - Discriminator loss: 0.4118 - 5353 samples/s\n",
      "INFO - 12/24/22 09:37:29 - 0:04:27 - 588000 - Discriminator loss: 0.4112 - 5158 samples/s\n",
      "INFO - 12/24/22 09:37:31 - 0:04:28 - 592000 - Discriminator loss: 0.4120 - 5327 samples/s\n",
      "INFO - 12/24/22 09:37:32 - 0:04:30 - 596000 - Discriminator loss: 0.4103 - 5299 samples/s\n",
      "INFO - 12/24/22 09:37:34 - 0:04:31 - 600000 - Discriminator loss: 0.4106 - 5267 samples/s\n",
      "INFO - 12/24/22 09:37:35 - 0:04:33 - 604000 - Discriminator loss: 0.4117 - 5304 samples/s\n",
      "INFO - 12/24/22 09:37:37 - 0:04:34 - 608000 - Discriminator loss: 0.4120 - 5249 samples/s\n",
      "INFO - 12/24/22 09:37:38 - 0:04:36 - 612000 - Discriminator loss: 0.4121 - 5141 samples/s\n",
      "INFO - 12/24/22 09:37:40 - 0:04:37 - 616000 - Discriminator loss: 0.4119 - 5263 samples/s\n",
      "INFO - 12/24/22 09:37:41 - 0:04:39 - 620000 - Discriminator loss: 0.4095 - 5363 samples/s\n",
      "INFO - 12/24/22 09:37:43 - 0:04:40 - 624000 - Discriminator loss: 0.4092 - 5340 samples/s\n",
      "INFO - 12/24/22 09:37:44 - 0:04:42 - 628000 - Discriminator loss: 0.4100 - 5413 samples/s\n",
      "INFO - 12/24/22 09:37:46 - 0:04:43 - 632000 - Discriminator loss: 0.4099 - 5340 samples/s\n",
      "INFO - 12/24/22 09:37:47 - 0:04:45 - 636000 - Discriminator loss: 0.4089 - 5252 samples/s\n",
      "INFO - 12/24/22 09:37:49 - 0:04:46 - 640000 - Discriminator loss: 0.4058 - 5215 samples/s\n",
      "INFO - 12/24/22 09:37:50 - 0:04:48 - 644000 - Discriminator loss: 0.4055 - 5273 samples/s\n",
      "INFO - 12/24/22 09:37:52 - 0:04:49 - 648000 - Discriminator loss: 0.4048 - 5293 samples/s\n",
      "INFO - 12/24/22 09:37:53 - 0:04:51 - 652000 - Discriminator loss: 0.4062 - 5291 samples/s\n",
      "INFO - 12/24/22 09:37:55 - 0:04:52 - 656000 - Discriminator loss: 0.4050 - 5376 samples/s\n",
      "INFO - 12/24/22 09:37:56 - 0:04:54 - 660000 - Discriminator loss: 0.4054 - 5260 samples/s\n",
      "INFO - 12/24/22 09:37:58 - 0:04:56 - 664000 - Discriminator loss: 0.4044 - 5290 samples/s\n",
      "INFO - 12/24/22 09:37:59 - 0:04:57 - 668000 - Discriminator loss: 0.4017 - 5374 samples/s\n",
      "INFO - 12/24/22 09:38:01 - 0:04:59 - 672000 - Discriminator loss: 0.4034 - 5211 samples/s\n",
      "INFO - 12/24/22 09:38:02 - 0:05:00 - 676000 - Discriminator loss: 0.4034 - 5324 samples/s\n",
      "INFO - 12/24/22 09:38:04 - 0:05:02 - 680000 - Discriminator loss: 0.4013 - 5209 samples/s\n",
      "INFO - 12/24/22 09:38:05 - 0:05:03 - 684000 - Discriminator loss: 0.4022 - 5348 samples/s\n",
      "INFO - 12/24/22 09:38:07 - 0:05:05 - 688000 - Discriminator loss: 0.4014 - 5377 samples/s\n",
      "INFO - 12/24/22 09:38:08 - 0:05:06 - 692000 - Discriminator loss: 0.4016 - 5192 samples/s\n",
      "INFO - 12/24/22 09:38:10 - 0:05:08 - 696000 - Discriminator loss: 0.4007 - 5391 samples/s\n",
      "INFO - 12/24/22 09:38:11 - 0:05:09 - 700000 - Discriminator loss: 0.4001 - 5296 samples/s\n",
      "INFO - 12/24/22 09:38:13 - 0:05:11 - 704000 - Discriminator loss: 0.4028 - 4639 samples/s\n",
      "INFO - 12/24/22 09:38:15 - 0:05:13 - 708000 - Discriminator loss: 0.4014 - 4241 samples/s\n",
      "INFO - 12/24/22 09:38:17 - 0:05:15 - 712000 - Discriminator loss: 0.3998 - 4397 samples/s\n",
      "INFO - 12/24/22 09:38:18 - 0:05:16 - 716000 - Discriminator loss: 0.4007 - 5348 samples/s\n",
      "INFO - 12/24/22 09:38:20 - 0:05:18 - 720000 - Discriminator loss: 0.3996 - 5332 samples/s\n",
      "INFO - 12/24/22 09:38:21 - 0:05:19 - 724000 - Discriminator loss: 0.3994 - 5321 samples/s\n",
      "INFO - 12/24/22 09:38:23 - 0:05:21 - 728000 - Discriminator loss: 0.3981 - 5295 samples/s\n",
      "INFO - 12/24/22 09:38:24 - 0:05:22 - 732000 - Discriminator loss: 0.3972 - 5273 samples/s\n",
      "INFO - 12/24/22 09:38:26 - 0:05:24 - 736000 - Discriminator loss: 0.3985 - 5272 samples/s\n",
      "INFO - 12/24/22 09:38:27 - 0:05:25 - 740000 - Discriminator loss: 0.3963 - 5326 samples/s\n",
      "INFO - 12/24/22 09:38:29 - 0:05:27 - 744000 - Discriminator loss: 0.3970 - 5345 samples/s\n",
      "INFO - 12/24/22 09:38:30 - 0:05:28 - 748000 - Discriminator loss: 0.3959 - 5338 samples/s\n",
      "INFO - 12/24/22 09:38:32 - 0:05:30 - 752000 - Discriminator loss: 0.3956 - 5313 samples/s\n",
      "INFO - 12/24/22 09:38:33 - 0:05:31 - 756000 - Discriminator loss: 0.3942 - 5362 samples/s\n",
      "INFO - 12/24/22 09:38:35 - 0:05:33 - 760000 - Discriminator loss: 0.3958 - 5369 samples/s\n",
      "INFO - 12/24/22 09:38:36 - 0:05:34 - 764000 - Discriminator loss: 0.3949 - 5362 samples/s\n",
      "INFO - 12/24/22 09:38:38 - 0:05:36 - 768000 - Discriminator loss: 0.3958 - 5216 samples/s\n",
      "INFO - 12/24/22 09:38:39 - 0:05:37 - 772000 - Discriminator loss: 0.3941 - 5368 samples/s\n",
      "INFO - 12/24/22 09:38:41 - 0:05:39 - 776000 - Discriminator loss: 0.3938 - 5202 samples/s\n",
      "INFO - 12/24/22 09:38:42 - 0:05:40 - 780000 - Discriminator loss: 0.3925 - 5192 samples/s\n",
      "INFO - 12/24/22 09:38:44 - 0:05:42 - 784000 - Discriminator loss: 0.3932 - 5323 samples/s\n",
      "INFO - 12/24/22 09:38:45 - 0:05:43 - 788000 - Discriminator loss: 0.3928 - 5357 samples/s\n",
      "INFO - 12/24/22 09:38:47 - 0:05:45 - 792000 - Discriminator loss: 0.3934 - 5287 samples/s\n",
      "INFO - 12/24/22 09:38:48 - 0:05:46 - 796000 - Discriminator loss: 0.3921 - 5364 samples/s\n",
      "INFO - 12/24/22 09:38:50 - 0:05:48 - 800000 - Discriminator loss: 0.3901 - 5331 samples/s\n",
      "INFO - 12/24/22 09:38:51 - 0:05:49 - 804000 - Discriminator loss: 0.3913 - 5315 samples/s\n",
      "INFO - 12/24/22 09:38:53 - 0:05:51 - 808000 - Discriminator loss: 0.3914 - 5273 samples/s\n",
      "INFO - 12/24/22 09:38:55 - 0:05:52 - 812000 - Discriminator loss: 0.3903 - 5347 samples/s\n",
      "INFO - 12/24/22 09:38:56 - 0:05:54 - 816000 - Discriminator loss: 0.3905 - 5363 samples/s\n",
      "INFO - 12/24/22 09:38:58 - 0:05:55 - 820000 - Discriminator loss: 0.3914 - 5280 samples/s\n",
      "INFO - 12/24/22 09:38:59 - 0:05:57 - 824000 - Discriminator loss: 0.3904 - 5397 samples/s\n",
      "INFO - 12/24/22 09:39:00 - 0:05:58 - 828000 - Discriminator loss: 0.3902 - 5342 samples/s\n",
      "INFO - 12/24/22 09:39:02 - 0:06:00 - 832000 - Discriminator loss: 0.3905 - 5369 samples/s\n",
      "INFO - 12/24/22 09:39:04 - 0:06:01 - 836000 - Discriminator loss: 0.3889 - 5286 samples/s\n",
      "INFO - 12/24/22 09:39:05 - 0:06:03 - 840000 - Discriminator loss: 0.3886 - 5369 samples/s\n",
      "INFO - 12/24/22 09:39:06 - 0:06:04 - 844000 - Discriminator loss: 0.3864 - 5403 samples/s\n",
      "INFO - 12/24/22 09:39:08 - 0:06:06 - 848000 - Discriminator loss: 0.3891 - 5381 samples/s\n",
      "INFO - 12/24/22 09:39:09 - 0:06:07 - 852000 - Discriminator loss: 0.3870 - 5362 samples/s\n",
      "INFO - 12/24/22 09:39:11 - 0:06:09 - 856000 - Discriminator loss: 0.3871 - 5301 samples/s\n",
      "INFO - 12/24/22 09:39:12 - 0:06:10 - 860000 - Discriminator loss: 0.3871 - 5261 samples/s\n",
      "INFO - 12/24/22 09:39:14 - 0:06:12 - 864000 - Discriminator loss: 0.3870 - 5368 samples/s\n",
      "INFO - 12/24/22 09:39:15 - 0:06:13 - 868000 - Discriminator loss: 0.3883 - 5316 samples/s\n",
      "INFO - 12/24/22 09:39:17 - 0:06:15 - 872000 - Discriminator loss: 0.3867 - 5308 samples/s\n",
      "INFO - 12/24/22 09:39:18 - 0:06:16 - 876000 - Discriminator loss: 0.3875 - 5339 samples/s\n",
      "INFO - 12/24/22 09:39:20 - 0:06:18 - 880000 - Discriminator loss: 0.3865 - 5355 samples/s\n",
      "INFO - 12/24/22 09:39:21 - 0:06:19 - 884000 - Discriminator loss: 0.3858 - 5336 samples/s\n",
      "INFO - 12/24/22 09:39:23 - 0:06:21 - 888000 - Discriminator loss: 0.3843 - 5382 samples/s\n",
      "INFO - 12/24/22 09:39:24 - 0:06:22 - 892000 - Discriminator loss: 0.3842 - 5327 samples/s\n",
      "INFO - 12/24/22 09:39:26 - 0:06:24 - 896000 - Discriminator loss: 0.3842 - 5424 samples/s\n",
      "INFO - 12/24/22 09:39:27 - 0:06:25 - 900000 - Discriminator loss: 0.3838 - 5440 samples/s\n",
      "INFO - 12/24/22 09:39:29 - 0:06:27 - 904000 - Discriminator loss: 0.3844 - 5346 samples/s\n",
      "INFO - 12/24/22 09:39:30 - 0:06:28 - 908000 - Discriminator loss: 0.3830 - 5409 samples/s\n",
      "INFO - 12/24/22 09:39:32 - 0:06:30 - 912000 - Discriminator loss: 0.3826 - 5412 samples/s\n",
      "INFO - 12/24/22 09:39:33 - 0:06:31 - 916000 - Discriminator loss: 0.3838 - 5313 samples/s\n",
      "INFO - 12/24/22 09:39:35 - 0:06:33 - 920000 - Discriminator loss: 0.3824 - 5386 samples/s\n",
      "INFO - 12/24/22 09:39:36 - 0:06:34 - 924000 - Discriminator loss: 0.3814 - 5331 samples/s\n",
      "INFO - 12/24/22 09:39:38 - 0:06:35 - 928000 - Discriminator loss: 0.3835 - 5390 samples/s\n",
      "INFO - 12/24/22 09:39:39 - 0:06:37 - 932000 - Discriminator loss: 0.3839 - 5318 samples/s\n",
      "INFO - 12/24/22 09:39:41 - 0:06:38 - 936000 - Discriminator loss: 0.3829 - 5344 samples/s\n",
      "INFO - 12/24/22 09:39:42 - 0:06:40 - 940000 - Discriminator loss: 0.3807 - 5162 samples/s\n",
      "INFO - 12/24/22 09:39:44 - 0:06:42 - 944000 - Discriminator loss: 0.3818 - 5347 samples/s\n",
      "INFO - 12/24/22 09:39:45 - 0:06:43 - 948000 - Discriminator loss: 0.3820 - 5324 samples/s\n",
      "INFO - 12/24/22 09:39:47 - 0:06:45 - 952000 - Discriminator loss: 0.3817 - 5326 samples/s\n",
      "INFO - 12/24/22 09:39:48 - 0:06:46 - 956000 - Discriminator loss: 0.3827 - 5371 samples/s\n",
      "INFO - 12/24/22 09:39:50 - 0:06:48 - 960000 - Discriminator loss: 0.3838 - 5335 samples/s\n",
      "INFO - 12/24/22 09:39:51 - 0:06:49 - 964000 - Discriminator loss: 0.3842 - 5320 samples/s\n",
      "INFO - 12/24/22 09:39:53 - 0:06:51 - 968000 - Discriminator loss: 0.3849 - 5335 samples/s\n",
      "INFO - 12/24/22 09:39:54 - 0:06:52 - 972000 - Discriminator loss: 0.3842 - 5352 samples/s\n",
      "INFO - 12/24/22 09:39:56 - 0:06:54 - 976000 - Discriminator loss: 0.3843 - 5343 samples/s\n",
      "INFO - 12/24/22 09:39:57 - 0:06:55 - 980000 - Discriminator loss: 0.3837 - 5244 samples/s\n",
      "INFO - 12/24/22 09:39:59 - 0:06:57 - 984000 - Discriminator loss: 0.3825 - 5421 samples/s\n",
      "INFO - 12/24/22 09:40:00 - 0:06:58 - 988000 - Discriminator loss: 0.3829 - 5318 samples/s\n",
      "INFO - 12/24/22 09:40:02 - 0:07:00 - 992000 - Discriminator loss: 0.3825 - 5345 samples/s\n",
      "INFO - 12/24/22 09:40:03 - 0:07:01 - 996000 - Discriminator loss: 0.3828 - 5208 samples/s\n",
      "INFO - 12/24/22 09:40:08 - 0:07:06 - Building the train dictionary ...\n",
      "INFO - 12/24/22 09:40:08 - 0:07:06 - New train dictionary of 5748 pairs.\n",
      "INFO - 12/24/22 09:40:08 - 0:07:06 - Mean cosine (nn method, S2T build, 10000 max size): 0.60133\n",
      "INFO - 12/24/22 09:40:45 - 0:07:43 - Building the train dictionary ...\n",
      "INFO - 12/24/22 09:40:45 - 0:07:43 - New train dictionary of 6461 pairs.\n",
      "INFO - 12/24/22 09:40:45 - 0:07:43 - Mean cosine (csls_knn_10 method, S2T build, 10000 max size): 0.58837\n",
      "/content/MUSE/src/evaluation/evaluator.py:232: UserWarning: volatile was removed and now has no effect. Use `with torch.no_grad():` instead.\n",
      "  emb = Variable(self.src_emb.weight[i:i + bs].data, volatile=True)\n",
      "/content/MUSE/src/evaluation/evaluator.py:237: UserWarning: volatile was removed and now has no effect. Use `with torch.no_grad():` instead.\n",
      "  emb = Variable(self.tgt_emb.weight[i:i + bs].data, volatile=True)\n",
      "INFO - 12/24/22 09:40:47 - 0:07:44 - Discriminator source / target predictions: 0.78688 / 0.22645\n",
      "INFO - 12/24/22 09:40:47 - 0:07:44 - Discriminator source / target / global accuracy: 0.93212 / 0.84982 / 0.89097\n",
      "INFO - 12/24/22 09:40:47 - 0:07:44 - __log__:{\"n_epoch\": 0, \"mean_cosine-nn-S2T-10000\": 0.6013336777687073, \"mean_cosine-csls_knn_10-S2T-10000\": 0.5883744955062866, \"dis_accu\": 0.8909675, \"dis_src_pred\": 0.786876713256212, \"dis_tgt_pred\": 0.22644754586355656}\n",
      "INFO - 12/24/22 09:40:47 - 0:07:44 - * Best value for \"mean_cosine-csls_knn_10-S2T-10000\": 0.58837\n",
      "INFO - 12/24/22 09:40:47 - 0:07:44 - * Saving the mapping to ./fr_to_en/7ulpns4r9u/best_mapping.pth ...\n",
      "INFO - 12/24/22 09:40:47 - 0:07:44 - End of epoch 0.\n",
      "                                     \n",
      "                                     \n",
      "INFO - 12/24/22 09:40:47 - 0:07:44 - Decreasing learning rate: 0.10000000 -> 0.09800000\n",
      "INFO - 12/24/22 09:40:47 - 0:07:44 - ----> ITERATIVE PROCRUSTES REFINEMENT <----\n",
      "                                     \n",
      "                                     \n",
      "INFO - 12/24/22 09:40:47 - 0:07:44 - * Reloading the best model from ./fr_to_en/7ulpns4r9u/best_mapping.pth ...\n",
      "INFO - 12/24/22 09:40:47 - 0:07:44 - Starting refinement iteration 0...\n",
      "INFO - 12/24/22 09:40:47 - 0:07:44 - Building the train dictionary ...\n",
      "INFO - 12/24/22 09:41:06 - 0:08:03 - New train dictionary of 9802 pairs.\n",
      "INFO - 12/24/22 09:41:09 - 0:08:07 - Building the train dictionary ...\n",
      "INFO - 12/24/22 09:41:09 - 0:08:07 - New train dictionary of 7416 pairs.\n",
      "INFO - 12/24/22 09:41:09 - 0:08:07 - Mean cosine (nn method, S2T build, 10000 max size): 0.70270\n",
      "INFO - 12/24/22 09:41:46 - 0:08:43 - Building the train dictionary ...\n",
      "INFO - 12/24/22 09:41:46 - 0:08:43 - New train dictionary of 7358 pairs.\n",
      "INFO - 12/24/22 09:41:46 - 0:08:43 - Mean cosine (csls_knn_10 method, S2T build, 10000 max size): 0.70054\n",
      "INFO - 12/24/22 09:41:46 - 0:08:43 - __log__:{\"n_iter\": 0, \"mean_cosine-nn-S2T-10000\": 0.702704131603241, \"mean_cosine-csls_knn_10-S2T-10000\": 0.700538694858551}\n",
      "INFO - 12/24/22 09:41:46 - 0:08:43 - * Best value for \"mean_cosine-csls_knn_10-S2T-10000\": 0.70054\n",
      "INFO - 12/24/22 09:41:46 - 0:08:43 - * Saving the mapping to ./fr_to_en/7ulpns4r9u/best_mapping.pth ...\n",
      "INFO - 12/24/22 09:41:46 - 0:08:43 - End of refinement iteration 0.\n",
      "                                     \n",
      "                                     \n",
      "INFO - 12/24/22 09:41:46 - 0:08:43 - Starting refinement iteration 1...\n",
      "INFO - 12/24/22 09:41:46 - 0:08:43 - Building the train dictionary ...\n",
      "INFO - 12/24/22 09:42:05 - 0:09:02 - New train dictionary of 11225 pairs.\n",
      "INFO - 12/24/22 09:42:08 - 0:09:06 - Building the train dictionary ...\n",
      "INFO - 12/24/22 09:42:08 - 0:09:06 - New train dictionary of 7464 pairs.\n",
      "INFO - 12/24/22 09:42:08 - 0:09:06 - Mean cosine (nn method, S2T build, 10000 max size): 0.70584\n",
      "INFO - 12/24/22 09:42:45 - 0:09:42 - Building the train dictionary ...\n",
      "INFO - 12/24/22 09:42:45 - 0:09:42 - New train dictionary of 7413 pairs.\n",
      "INFO - 12/24/22 09:42:45 - 0:09:42 - Mean cosine (csls_knn_10 method, S2T build, 10000 max size): 0.70433\n",
      "INFO - 12/24/22 09:42:45 - 0:09:42 - __log__:{\"n_iter\": 1, \"mean_cosine-nn-S2T-10000\": 0.7058411240577698, \"mean_cosine-csls_knn_10-S2T-10000\": 0.7043333649635315}\n",
      "INFO - 12/24/22 09:42:45 - 0:09:42 - * Best value for \"mean_cosine-csls_knn_10-S2T-10000\": 0.70433\n",
      "INFO - 12/24/22 09:42:45 - 0:09:42 - * Saving the mapping to ./fr_to_en/7ulpns4r9u/best_mapping.pth ...\n",
      "INFO - 12/24/22 09:42:45 - 0:09:42 - End of refinement iteration 1.\n",
      "                                     \n",
      "                                     \n",
      "INFO - 12/24/22 09:42:45 - 0:09:42 - Starting refinement iteration 2...\n",
      "INFO - 12/24/22 09:42:45 - 0:09:42 - Building the train dictionary ...\n",
      "INFO - 12/24/22 09:43:03 - 0:10:01 - New train dictionary of 11350 pairs.\n",
      "INFO - 12/24/22 09:43:07 - 0:10:05 - Building the train dictionary ...\n",
      "INFO - 12/24/22 09:43:07 - 0:10:05 - New train dictionary of 7459 pairs.\n",
      "INFO - 12/24/22 09:43:07 - 0:10:05 - Mean cosine (nn method, S2T build, 10000 max size): 0.70574\n",
      "INFO - 12/24/22 09:43:43 - 0:10:41 - Building the train dictionary ...\n",
      "INFO - 12/24/22 09:43:43 - 0:10:41 - New train dictionary of 7411 pairs.\n",
      "INFO - 12/24/22 09:43:43 - 0:10:41 - Mean cosine (csls_knn_10 method, S2T build, 10000 max size): 0.70437\n",
      "INFO - 12/24/22 09:43:44 - 0:10:41 - __log__:{\"n_iter\": 2, \"mean_cosine-nn-S2T-10000\": 0.7057362794876099, \"mean_cosine-csls_knn_10-S2T-10000\": 0.7043743133544922}\n",
      "INFO - 12/24/22 09:43:44 - 0:10:41 - * Best value for \"mean_cosine-csls_knn_10-S2T-10000\": 0.70437\n",
      "INFO - 12/24/22 09:43:44 - 0:10:41 - * Saving the mapping to ./fr_to_en/7ulpns4r9u/best_mapping.pth ...\n",
      "INFO - 12/24/22 09:43:44 - 0:10:41 - End of refinement iteration 2.\n",
      "                                     \n",
      "                                     \n",
      "INFO - 12/24/22 09:43:44 - 0:10:41 - Starting refinement iteration 3...\n",
      "INFO - 12/24/22 09:43:44 - 0:10:41 - Building the train dictionary ...\n",
      "INFO - 12/24/22 09:44:02 - 0:11:00 - New train dictionary of 11358 pairs.\n",
      "INFO - 12/24/22 09:44:06 - 0:11:04 - Building the train dictionary ...\n",
      "INFO - 12/24/22 09:44:06 - 0:11:04 - New train dictionary of 7456 pairs.\n",
      "INFO - 12/24/22 09:44:06 - 0:11:04 - Mean cosine (nn method, S2T build, 10000 max size): 0.70567\n",
      "INFO - 12/24/22 09:44:42 - 0:11:40 - Building the train dictionary ...\n",
      "INFO - 12/24/22 09:44:42 - 0:11:40 - New train dictionary of 7420 pairs.\n",
      "INFO - 12/24/22 09:44:42 - 0:11:40 - Mean cosine (csls_knn_10 method, S2T build, 10000 max size): 0.70424\n",
      "INFO - 12/24/22 09:44:42 - 0:11:40 - __log__:{\"n_iter\": 3, \"mean_cosine-nn-S2T-10000\": 0.7056710720062256, \"mean_cosine-csls_knn_10-S2T-10000\": 0.7042352557182312}\n",
      "INFO - 12/24/22 09:44:42 - 0:11:40 - End of refinement iteration 3.\n",
      "                                     \n",
      "                                     \n",
      "INFO - 12/24/22 09:44:42 - 0:11:40 - Starting refinement iteration 4...\n",
      "INFO - 12/24/22 09:44:42 - 0:11:40 - Building the train dictionary ...\n",
      "INFO - 12/24/22 09:45:01 - 0:11:59 - New train dictionary of 11364 pairs.\n",
      "INFO - 12/24/22 09:45:05 - 0:12:02 - Building the train dictionary ...\n",
      "INFO - 12/24/22 09:45:05 - 0:12:02 - New train dictionary of 7460 pairs.\n",
      "INFO - 12/24/22 09:45:05 - 0:12:02 - Mean cosine (nn method, S2T build, 10000 max size): 0.70552\n",
      "INFO - 12/24/22 09:45:42 - 0:12:39 - Building the train dictionary ...\n",
      "INFO - 12/24/22 09:45:42 - 0:12:39 - New train dictionary of 7424 pairs.\n",
      "INFO - 12/24/22 09:45:42 - 0:12:39 - Mean cosine (csls_knn_10 method, S2T build, 10000 max size): 0.70408\n",
      "INFO - 12/24/22 09:45:42 - 0:12:39 - __log__:{\"n_iter\": 4, \"mean_cosine-nn-S2T-10000\": 0.7055218815803528, \"mean_cosine-csls_knn_10-S2T-10000\": 0.7040793299674988}\n",
      "INFO - 12/24/22 09:45:42 - 0:12:39 - End of refinement iteration 4.\n",
      "                                     \n",
      "                                     \n"
     ]
    }
   ],
   "source": [
    "# export is disabled as it is too RAM heavy for colab\n",
    "!python unsupervised.py --src_lang fr --tgt_lang en --src_emb data/wiki.fr.vec --tgt_emb data/wiki.en.vec --n_epochs 1 --exp_name \"fr_to_en\" --exp_path \"./\" --export \"\" # --dis_optimizer \"adam\" --map_optimizer \"adam\""
   ]
  },
  {
   "cell_type": "markdown",
   "metadata": {
    "id": "j8dxX_AP5nbA"
   },
   "source": [
    "## Load the best mapping"
   ]
  },
  {
   "cell_type": "code",
   "execution_count": null,
   "metadata": {
    "id": "tVIq_MVQVOP7"
   },
   "outputs": [],
   "source": [
    "exp_id = !ls fr_to_en\n",
    "exp_id = exp_id[0]"
   ]
  },
  {
   "cell_type": "code",
   "execution_count": null,
   "metadata": {
    "id": "4jsYFYg-Vddu"
   },
   "outputs": [],
   "source": [
    "import torch\n",
    "mapping_data = torch.load(\"fr_to_en/\" + exp_id + \"/best_mapping.pth\")\n",
    "mapping = torch.nn.Linear(300,300, bias=False)\n",
    "mapping.weight.data = torch.from_numpy(mapping_data)"
   ]
  },
  {
   "cell_type": "markdown",
   "metadata": {
    "id": "rnT9ujcj52uq"
   },
   "source": [
    "## Load the french/english embeddings"
   ]
  },
  {
   "cell_type": "code",
   "execution_count": null,
   "metadata": {
    "id": "RD_Rz9MEYqB3"
   },
   "outputs": [],
   "source": [
    "from gensim.models import KeyedVectors\n",
    "wv_fr = KeyedVectors.load_word2vec_format('data/wiki.fr.vec', binary=False)\n",
    "wv_en = KeyedVectors.load_word2vec_format('data/wiki.en.vec', binary=False)"
   ]
  },
  {
   "cell_type": "markdown",
   "metadata": {
    "id": "pTD00oGF58cz"
   },
   "source": [
    "## Try the mapping on a few words"
   ]
  },
  {
   "cell_type": "code",
   "execution_count": null,
   "metadata": {
    "id": "A0rH5RarVxrw"
   },
   "outputs": [],
   "source": [
    "mots = [\"bonjour\", \"cochon\", \"triste\", \"tricher\", \"rigolo\", \"francais\", \"anglais\"]\n",
    "words = [\"hello\", \"pig\", \"sad\", \"cheat\", \"funny\", \"french\", \"english\"]\n",
    "\n",
    "encoded_mots = [wv_fr[mot] for mot in mots]\n",
    "encoded_words = [wv_en[word] for word in words]"
   ]
  },
  {
   "cell_type": "code",
   "execution_count": null,
   "metadata": {
    "colab": {
     "base_uri": "https://localhost:8080/"
    },
    "id": "aCutpbUEfgao",
    "outputId": "c4666b43-7571-4aaf-d97d-11531beea2f0"
   },
   "outputs": [
    {
     "name": "stderr",
     "output_type": "stream",
     "text": [
      "<ipython-input-12-3410aa330cdf>:1: UserWarning: The given NumPy array is not writable, and PyTorch does not support non-writable tensors. This means writing to this tensor will result in undefined behavior. You may want to copy the array to protect its data or make it writable before converting it to a tensor. This type of warning will be suppressed for the rest of this program. (Triggered internally at ../torch/csrc/utils/tensor_numpy.cpp:199.)\n",
      "  mapped_mots = [mapping(torch.from_numpy(mot)).detach().numpy() for mot in encoded_mots]\n"
     ]
    }
   ],
   "source": [
    "mapped_mots = [mapping(torch.from_numpy(mot)).detach().numpy() for mot in encoded_mots]"
   ]
  },
  {
   "cell_type": "code",
   "execution_count": null,
   "metadata": {
    "id": "MiQZviaR5Vma"
   },
   "outputs": [],
   "source": [
    "from sklearn.decomposition import TruncatedSVD\n",
    "\n",
    "def reduce_to_k_dim(M, k=2):\n",
    "    n_iters = 10     \n",
    "    M_reduced = None\n",
    "\n",
    "    svd = TruncatedSVD(n_components=k, n_iter=n_iters)\n",
    "    M_reduced = svd.fit_transform(M)\n",
    "\n",
    "    return M_reduced\n",
    "\n"
   ]
  },
  {
   "cell_type": "code",
   "execution_count": null,
   "metadata": {
    "id": "DVciqhtPYbei"
   },
   "outputs": [],
   "source": [
    "pts = reduce_to_k_dim(encoded_mots + encoded_words)\n",
    "pts_mapped = reduce_to_k_dim(mapped_mots + encoded_words)\n",
    "labels = mots + words"
   ]
  },
  {
   "cell_type": "code",
   "execution_count": null,
   "metadata": {
    "colab": {
     "base_uri": "https://localhost:8080/",
     "height": 607
    },
    "id": "CNoYJK50Zurw",
    "outputId": "6cff05b5-8513-4f6f-8e73-55b7331f9d4c"
   },
   "outputs": [
    {
     "data": {
      "image/png": "[encoded data removed]",
      "text/plain": [
       "<Figure size 1440x720 with 2 Axes>"
      ]
     },
     "metadata": {
      "needs_background": "light"
     },
     "output_type": "display_data"
    }
   ],
   "source": [
    "import matplotlib.pyplot as plt\n",
    "plt.rcParams['figure.figsize'] = [20, 10]\n",
    "\n",
    "\n",
    "fig, (ax1, ax2) = plt.subplots(ncols=2)\n",
    "\n",
    "\n",
    "ax1.set_title(\"Before mapping\")\n",
    "ax2.set_title(\"After mapping\")\n",
    "\n",
    "xs1 = [el[0] for el in pts]\n",
    "ys1 = [el[1] for el in pts]\n",
    "ax1.scatter(xs1, ys1)\n",
    "\n",
    "\n",
    "xs2 = [el[0] for el in pts_mapped]\n",
    "ys2 = [el[1] for el in pts_mapped]\n",
    "ax2.scatter(xs2, ys2)\n",
    "\n",
    "\n",
    "for i, txt in enumerate(labels):\n",
    "    ax1.annotate(txt, (xs1[i], ys1[i]))\n",
    "    ax2.annotate(txt, (xs2[i], ys2[i]))\n"
   ]
  },
  {
   "cell_type": "markdown",
   "metadata": {},
   "source": [
    "The results do not show the best performance (English words may be far apart from their mapped french counterpart) but that might be due to the SVD. However, we can see that the English and French space without the mapping are clearly separated while the mapping merges the french space with the English one. This means we can at least see that the rotation of the french space probably worked."
   ]
  },
  {
   "cell_type": "markdown",
   "metadata": {
    "id": "LdlZ5znG6r9P"
   },
   "source": [
    "## Apply the translation approach"
   ]
  },
  {
   "cell_type": "code",
   "execution_count": null,
   "metadata": {
    "id": "xXCCogcDi8lj"
   },
   "outputs": [],
   "source": [
    "wv_en.init_sims(replace=True)"
   ]
  },
  {
   "cell_type": "code",
   "execution_count": null,
   "metadata": {
    "colab": {
     "base_uri": "https://localhost:8080/"
    },
    "id": "d6Tvt4Qfj9Zp",
    "outputId": "c286798f-63c7-441e-e39f-281464514b2f"
   },
   "outputs": [
    {
     "data": {
      "text/plain": [
       "[('pig', 0.6737393736839294),\n",
       " ('chicken', 0.6134365200996399),\n",
       " ('goat', 0.6071912050247192),\n",
       " ('dog', 0.6024898290634155),\n",
       " ('rabbit', 0.5933083295822144),\n",
       " ('chickens', 0.5733795762062073),\n",
       " ('cow', 0.5607603192329407),\n",
       " ('stinky', 0.5455542206764221),\n",
       " ('rabbit,', 0.538522481918335),\n",
       " ('chickening', 0.5382922887802124)]"
      ]
     },
     "execution_count": 17,
     "metadata": {},
     "output_type": "execute_result"
    }
   ],
   "source": [
    "wv_en.similar_by_vector(mapped_mots[1])"
   ]
  },
  {
   "cell_type": "code",
   "execution_count": null,
   "metadata": {
    "id": "KdygRK5FonLo"
   },
   "outputs": [],
   "source": [
    "def translate_word(word, src_emb, tgt_emb, mapping) :\n",
    "  encoded_word = src_emb[word]\n",
    "  mapped_word = mapping(torch.from_numpy(encoded_word)).detach().numpy()\n",
    "  most_similar = tgt_emb.similar_by_vector(mapped_word)[0][0]\n",
    "  return most_similar\n"
   ]
  },
  {
   "cell_type": "code",
   "execution_count": null,
   "metadata": {
    "colab": {
     "base_uri": "https://localhost:8080/"
    },
    "id": "nbh4ht6apaeC",
    "outputId": "873f11d9-5f7a-4043-96c7-4b5f35b2b6c5"
   },
   "outputs": [
    {
     "name": "stdout",
     "output_type": "stream",
     "text": [
      "cannelle : cinnamon\n",
      "lapin : rabbit\n",
      "ornithorynque : monotreme\n",
      "changer : changing\n",
      "squelette : skeleton\n"
     ]
    }
   ],
   "source": [
    "trad1 = translate_word(\"cannelle\", wv_fr, wv_en, mapping)\n",
    "trad2 = translate_word(\"lapin\", wv_fr, wv_en, mapping)\n",
    "trad3 = translate_word(\"ornithorynque\", wv_fr, wv_en, mapping)\n",
    "trad4 = translate_word(\"changer\", wv_fr, wv_en, mapping)\n",
    "trad5 = translate_word(\"squelette\", wv_fr, wv_en, mapping)\n",
    "\n",
    "print(\"cannelle : \" + trad1)\n",
    "print(\"lapin : \" + trad2)\n",
    "print(\"ornithorynque : \" + trad3)\n",
    "print(\"changer : \" + trad4)\n",
    "print(\"squelette : \" + trad5)"
   ]
  },
  {
   "cell_type": "markdown",
   "metadata": {},
   "source": [
    "We can see that the resulting translations are mostly accurate. This approach falls short on unusual words, that probably don't appear often on our dataset, such as \"ornythorinque\" in our example."
   ]
  },
  {
   "cell_type": "markdown",
   "metadata": {
    "tags": []
   },
   "source": [
    "# IV. Neural Machine Translation (32 points)"
   ]
  },
  {
   "cell_type": "markdown",
   "metadata": {},
   "source": [
    "## BLEU score"
   ]
  },
  {
   "cell_type": "markdown",
   "metadata": {},
   "source": [
    "### Compute n-gram precision"
   ]
  },
  {
   "cell_type": "code",
   "execution_count": 52,
   "metadata": {},
   "outputs": [],
   "source": [
    "def get_ngram_list(sentence, n) :\n",
    "    words = sentence.split()\n",
    "    ngrams = []\n",
    "    i = 0\n",
    "    while i + n <= len(words) :\n",
    "        ngrams.append(\" \".join(words[i:i+n]))\n",
    "        i += 1\n",
    "        \n",
    "    return ngrams\n",
    "\n",
    "def compute_ngram_precision(candidate, references, n) :\n",
    "    candidate_ngrams = get_ngram_list(candidate, n)\n",
    "    unique_candidate_ngrams = list(set(candidate_ngrams))\n",
    "    \n",
    "    ocurrences_sum = 0\n",
    "    total_sum = 0\n",
    "    \n",
    "    for ngram in unique_candidate_ngrams :\n",
    "        candidate_count = candidate_ngrams.count(ngram)\n",
    "        max_ref_count = max([get_ngram_list(ref, n).count(ngram) for ref in references])\n",
    "        \n",
    "        occurences_count = min(candidate_count, max_ref_count)\n",
    "        \n",
    "        ocurrences_sum += occurences_count\n",
    "        total_sum += candidate_count\n",
    "        \n",
    "    return ocurrences_sum / total_sum"
   ]
  },
  {
   "cell_type": "markdown",
   "metadata": {},
   "source": [
    "### Compute brevity penalty"
   ]
  },
  {
   "cell_type": "code",
   "execution_count": 78,
   "metadata": {},
   "outputs": [],
   "source": [
    "import math\n",
    "\n",
    "def take_closest_ref(candidate_len, references_len) :\n",
    "    best_len = references_len[0]\n",
    "    best_distance = abs(best_len - candidate_len)\n",
    "    \n",
    "    for ref_len in references_len[1:] :\n",
    "        distance = abs(ref_len - candidate_len)\n",
    "        if distance < best_distance or (distance == best_distance and ref_len < best_len) :\n",
    "            best_distance = distance\n",
    "            best_len = ref_len\n",
    "    return best_len\n",
    "\n",
    "\n",
    "def compute_BP(candidate, references) :\n",
    "    candidate_len = len(candidate)\n",
    "    references_len = [len(ref) for ref in references]\n",
    "    closest_len = take_closest_ref(candidate_len, references_len)\n",
    "    \n",
    "    print(\"len(c) : \" + str(candidate_len))\n",
    "    print(\"len(r) : \" + str(closest_len))\n",
    "    \n",
    "    BP = 1\n",
    "    if candidate_len < closest_len :\n",
    "        BP = math.exp(1 - (closest_len / candidate_len))\n",
    "    return BP"
   ]
  },
  {
   "cell_type": "markdown",
   "metadata": {},
   "source": [
    "### Compute final BLEU score"
   ]
  },
  {
   "cell_type": "code",
   "execution_count": 79,
   "metadata": {},
   "outputs": [],
   "source": [
    "def compute_BLEU(candidate, references, lambda_weights = [0.25, 0.25, 0.25, 0.25]) :\n",
    "    precision_sum = 0\n",
    "    \n",
    "    for i in range(4) :\n",
    "        if lambda_weights[i] != 0 :\n",
    "            precision = compute_ngram_precision(candidate, references, i + 1)\n",
    "            print(\"P\" + str(i) + \" : \" + str(precision))\n",
    "            if precision > 0 :\n",
    "                precision_sum += lambda_weights[i] * math.log(precision)\n",
    "    \n",
    "    BP = compute_BP(candidate, references)\n",
    "    print(\"BP : \" + str(BP))\n",
    "    return BP * math.exp(precision_sum)"
   ]
  },
  {
   "cell_type": "markdown",
   "metadata": {},
   "source": [
    "### Test BLEU score on spanish example"
   ]
  },
  {
   "cell_type": "code",
   "execution_count": 84,
   "metadata": {},
   "outputs": [],
   "source": [
    "# source : el amor todo lo puede\n",
    "references = [\"love can always find a way\", \"loves makes anything possible\"]\n",
    "candidate1 = \"the love can always do\"\n",
    "candidate2 = \"love can make anything possible\""
   ]
  },
  {
   "cell_type": "code",
   "execution_count": 85,
   "metadata": {},
   "outputs": [
    {
     "name": "stdout",
     "output_type": "stream",
     "text": [
      "P0 : 0.6\n",
      "P1 : 0.5\n",
      "len(c) : 22\n",
      "len(r) : 26\n",
      "BP : 0.8337529180751805\n"
     ]
    },
    {
     "data": {
      "text/plain": [
       "0.45666528061553313"
      ]
     },
     "execution_count": 85,
     "metadata": {},
     "output_type": "execute_result"
    }
   ],
   "source": [
    "compute_BLEU(candidate1, references, lambda_weights = [0.5, 0.5, 0, 0])"
   ]
  },
  {
   "cell_type": "code",
   "execution_count": 86,
   "metadata": {},
   "outputs": [
    {
     "name": "stdout",
     "output_type": "stream",
     "text": [
      "P0 : 0.8\n",
      "P1 : 0.5\n",
      "len(c) : 31\n",
      "len(r) : 29\n",
      "BP : 1\n"
     ]
    },
    {
     "data": {
      "text/plain": [
       "0.6324555320336759"
      ]
     },
     "execution_count": 86,
     "metadata": {},
     "output_type": "execute_result"
    }
   ],
   "source": [
    "compute_BLEU(candidate2, references, lambda_weights = [0.5, 0.5, 0, 0])"
   ]
  },
  {
   "cell_type": "markdown",
   "metadata": {},
   "source": [
    "According to the BLEU scores, the best translation is candidate 2 : \"love can make anything possible\". This seems correct considering the references, as the reference \"love makes anything possible\" is very close to the translation proposed by candidate 2."
   ]
  },
  {
   "cell_type": "markdown",
   "metadata": {},
   "source": [
    "### Without reference 2"
   ]
  },
  {
   "cell_type": "code",
   "execution_count": 87,
   "metadata": {},
   "outputs": [],
   "source": [
    "references = [\"love can always find a way\"]"
   ]
  },
  {
   "cell_type": "code",
   "execution_count": 88,
   "metadata": {},
   "outputs": [
    {
     "name": "stdout",
     "output_type": "stream",
     "text": [
      "P0 : 0.6\n",
      "P1 : 0.5\n",
      "len(c) : 22\n",
      "len(r) : 26\n",
      "BP : 0.8337529180751805\n"
     ]
    },
    {
     "data": {
      "text/plain": [
       "0.45666528061553313"
      ]
     },
     "execution_count": 88,
     "metadata": {},
     "output_type": "execute_result"
    }
   ],
   "source": [
    "compute_BLEU(candidate1, references, lambda_weights = [0.5, 0.5, 0, 0])"
   ]
  },
  {
   "cell_type": "code",
   "execution_count": 89,
   "metadata": {},
   "outputs": [
    {
     "name": "stdout",
     "output_type": "stream",
     "text": [
      "P0 : 0.4\n",
      "P1 : 0.25\n",
      "len(c) : 31\n",
      "len(r) : 26\n",
      "BP : 1\n"
     ]
    },
    {
     "data": {
      "text/plain": [
       "0.316227766016838"
      ]
     },
     "execution_count": 89,
     "metadata": {},
     "output_type": "execute_result"
    }
   ],
   "source": [
    "compute_BLEU(candidate2, references, lambda_weights = [0.5, 0.5, 0, 0])"
   ]
  },
  {
   "cell_type": "markdown",
   "metadata": {},
   "source": [
    "According to the new BLEU scores, the best translation is now candidate 1 : \"the love can always do\". Although with the full context of the problem we know this is not the best translation, it becomes the best one when considering the new references, as the now only reference \"love can always find a way\" is closer to candidate 1 than candidate 2. "
   ]
  }
 ],
 "metadata": {
  "accelerator": "GPU",
  "colab": {
   "provenance": []
  },
  "gpuClass": "standard",
  "kernelspec": {
   "display_name": "Python 3 (ipykernel)",
   "language": "python",
   "name": "python3"
  },
  "language_info": {
   "codemirror_mode": {
    "name": "ipython",
    "version": 3
   },
   "file_extension": ".py",
   "mimetype": "text/x-python",
   "name": "python",
   "nbconvert_exporter": "python",
   "pygments_lexer": "ipython3",
   "version": "3.10.8"
  }
 },
 "nbformat": 4,
 "nbformat_minor": 4
}
